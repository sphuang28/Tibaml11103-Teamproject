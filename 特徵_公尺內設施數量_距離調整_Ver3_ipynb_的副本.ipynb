{
  "nbformat": 4,
  "nbformat_minor": 0,
  "metadata": {
    "colab": {
      "provenance": [],
      "authorship_tag": "ABX9TyNm9tNcFZ/dQw+hGru8BsEi",
      "include_colab_link": true
    },
    "kernelspec": {
      "name": "python3",
      "display_name": "Python 3"
    },
    "language_info": {
      "name": "python"
    }
  },
  "cells": [
    {
      "cell_type": "markdown",
      "metadata": {
        "id": "view-in-github",
        "colab_type": "text"
      },
      "source": [
        "<a href=\"https://colab.research.google.com/github/sphuang28/tibaml1017-teamproject/blob/main/%E7%89%B9%E5%BE%B5_%E5%85%AC%E5%B0%BA%E5%85%A7%E8%A8%AD%E6%96%BD%E6%95%B8%E9%87%8F_%E8%B7%9D%E9%9B%A2%E8%AA%BF%E6%95%B4_Ver3_ipynb_%E7%9A%84%E5%89%AF%E6%9C%AC.ipynb\" target=\"_parent\"><img src=\"https://colab.research.google.com/assets/colab-badge.svg\" alt=\"Open In Colab\"/></a>"
      ]
    },
    {
      "cell_type": "code",
      "execution_count": 233,
      "metadata": {
        "id": "BWp1IND9TUeJ",
        "colab": {
          "base_uri": "https://localhost:8080/",
          "height": 128
        },
        "outputId": "69364a18-95ae-4c8c-e2a0-a17e4c92bfc7"
      },
      "outputs": [
        {
          "output_type": "execute_result",
          "data": {
            "text/plain": [
              "'\\n使用前注意事項:\\n以下兩個檔案須注意路徑與名稱\\n1.主檔案 : 房屋交易表\\n\\n2.設施座標表 : 各項設施座標\\n\\n3.各項中英對照\\npark_d  = 固定範圍(公園)\\npark_q  = 公園數量\\nmu_d   = 固定範圍(博物館)  \\nmu_q   = 博物館數量\\nlib_d   = 固定範圍(圖書館)   \\nlib_q   = 圖書館數量\\nmrt_d   = 固定範圍(捷運出口) \\nmrt_q   = 捷運出口數量\\nedu_d   = 固定範圍(學校) \\nedu_q   = 學校數量\\nfire_d  = 固定範圍(消防局) \\nfire_q  = 消防局數量\\ndeade_d  = 固定範圍(禮儀) \\ndeade_q  = 禮儀數量\\npol_d   = 固定範圍(警察局) \\npol_q   = 警察局數量\\npost_d  = 固定範圍(郵局) \\npost_q  = 郵局數量\\nhosp_d  = 固定範圍(醫療) \\nhosp_q  = 醫療數量\\nfin_d   = 固定範圍(金融) \\nfin_q   = 金融數量\\n\\n使用方式:\\n針對所需要修改設施選擇後再輸入距離即可(單位為公里)\\n\\n'"
            ],
            "application/vnd.google.colaboratory.intrinsic+json": {
              "type": "string"
            }
          },
          "metadata": {},
          "execution_count": 233
        }
      ],
      "source": [
        "'''\n",
        "使用前注意事項:\n",
        "以下兩個檔案須注意路徑與名稱\n",
        "1.主檔案 : 房屋交易表\n",
        "\n",
        "2.設施座標表 : 各項設施座標\n",
        "\n",
        "3.各項中英對照\n",
        "park_d  = 固定範圍(公園)\n",
        "park_q  = 公園數量\n",
        "mu_d   = 固定範圍(博物館)  \n",
        "mu_q   = 博物館數量\n",
        "lib_d   = 固定範圍(圖書館)   \n",
        "lib_q   = 圖書館數量\n",
        "mrt_d   = 固定範圍(捷運出口) \n",
        "mrt_q   = 捷運出口數量\n",
        "edu_d   = 固定範圍(學校) \n",
        "edu_q   = 學校數量\n",
        "fire_d  = 固定範圍(消防局) \n",
        "fire_q  = 消防局數量\n",
        "deade_d  = 固定範圍(禮儀) \n",
        "deade_q  = 禮儀數量\n",
        "pol_d   = 固定範圍(警察局) \n",
        "pol_q   = 警察局數量\n",
        "post_d  = 固定範圍(郵局) \n",
        "post_q  = 郵局數量\n",
        "hosp_d  = 固定範圍(醫療) \n",
        "hosp_q  = 醫療數量\n",
        "fin_d   = 固定範圍(金融) \n",
        "fin_q   = 金融數量\n",
        "\n",
        "使用方式:\n",
        "針對所需要修改設施選擇後再輸入距離即可(單位為公里)\n",
        "\n",
        "'''\n"
      ]
    },
    {
      "cell_type": "code",
      "source": [
        "import pandas as pd\n",
        "import geopy.distance\n",
        "# 載入房屋交易csv檔\n",
        "\n",
        "dh = pd.read_csv(\"data/台北市房屋交易_最新版.csv\", encoding = \"utf-8\")\n",
        "pd.set_option('display.max_columns', 100)"
      ],
      "metadata": {
        "id": "t8x-RB1A7Y1s"
      },
      "execution_count": 234,
      "outputs": []
    },
    {
      "cell_type": "code",
      "source": [
        "#================= 1.公園 =============\n",
        "def park():\n",
        "\n",
        "  # 載入設施csv檔\n",
        "  df = pd.read_excel(\"data/設施座標表.xlsx\", sheet_name=\"公園\") \n",
        "  \n",
        "  dh[\"固定範圍(公園)\"]=int(k)/1000\n",
        "  dh[\"公園數量\"]=\"\"\n",
        "  for i in range(len(dh)):\n",
        "      times = 0\n",
        "      origin_lat = str(dh[\"lat\"][i])\n",
        "      origin_long = str(dh[\"lng\"][i])\n",
        "      origin = (origin_lat, origin_long)\n",
        "      for j in range(len(df)):\n",
        "          destination_lat = str(df[\"lat\"][j])\n",
        "          destination_long = str(df[\"lng\"][j])\n",
        "          destination = (destination_lat, destination_long)\n",
        "          distance=geopy.distance.geodesic(origin, destination).km\n",
        "          try:\n",
        "              if distance <= int(k)/1000:\n",
        "                  times = times + 1\n",
        "                  \n",
        "          except:\n",
        "              print(i,\"error\")\n",
        "      dh.at[i,\"公園數量\"] = times\n",
        "  dh.to_csv(\"台北市房屋交易_最新版公園\"+str(k)+\"公尺.csv\", encoding = \"utf-8\", index=False)"
      ],
      "metadata": {
        "id": "aM5x2J34Tbtq"
      },
      "execution_count": 235,
      "outputs": []
    },
    {
      "cell_type": "code",
      "source": [
        "#park_d=固定範圍(公園)  park_q=公園數量"
      ],
      "metadata": {
        "id": "eTZ9JlUH08Cf"
      },
      "execution_count": 236,
      "outputs": []
    },
    {
      "cell_type": "code",
      "source": [
        "#================= 2.博物館 =============\n",
        "def mu():\n",
        "\n",
        "  # 載入設施csv檔\n",
        "  df = pd.read_excel(\"data/設施座標表.xlsx\", sheet_name=\"博物館\")  \n",
        "\n",
        "  dh[\"固定範圍(博物館)\"]=float(dis)\n",
        "  dh[\"博物館數量\"]=\"\"\n",
        "  for i in range(len(dh)):\n",
        "      times = 0\n",
        "      origin_lat = str(dh[\"lat\"][i])\n",
        "      origin_long = str(dh[\"lng\"][i])\n",
        "      origin = (origin_lat, origin_long)\n",
        "      for j in range(len(df)):\n",
        "          destination_lat = str(df[\"lat\"][j])\n",
        "          destination_long = str(df[\"lng\"][j])\n",
        "          destination = (destination_lat, destination_long)\n",
        "          distance=geopy.distance.geodesic(origin, destination).km\n",
        "          try:\n",
        "              if distance <= float(dis):\n",
        "                  times = times + 1\n",
        "                  \n",
        "          except:\n",
        "              print(i,\"error\")\n",
        "      dh.at[i,\"博物館數量\"] = times\n",
        "  "
      ],
      "metadata": {
        "id": "odUgkCQATd75"
      },
      "execution_count": 237,
      "outputs": []
    },
    {
      "cell_type": "code",
      "source": [
        "#mu_d=固定範圍(博物館) mu_q=博物館數量"
      ],
      "metadata": {
        "id": "aBaX6Xnr1b9A"
      },
      "execution_count": 238,
      "outputs": []
    },
    {
      "cell_type": "code",
      "source": [
        "#================= 3.圖書館 =============\n",
        "def lib():\n",
        "\n",
        "  # 載入設施csv檔\n",
        "  df = pd.read_excel(\"data/設施座標表.xlsx\", sheet_name=\"圖書館\")  \n",
        "\n",
        "  dh[\"固定範圍(圖書館)\"]=float(dis)\n",
        "  dh[\"圖書館數量\"]=\"\"\n",
        "  for i in range(len(dh)):\n",
        "      times = 0\n",
        "      origin_lat = str(dh[\"lat\"][i])\n",
        "      origin_long = str(dh[\"lng\"][i])\n",
        "      origin = (origin_lat, origin_long)\n",
        "      for j in range(len(df)):\n",
        "          destination_lat = str(df[\"lat\"][j])\n",
        "          destination_long = str(df[\"lng\"][j])\n",
        "          destination = (destination_lat, destination_long)\n",
        "          distance=geopy.distance.geodesic(origin, destination).km\n",
        "          try:\n",
        "              if distance <= float(dis):\n",
        "                  times = times + 1\n",
        "                  \n",
        "          except:\n",
        "              print(i,\"error\")\n",
        "      dh.at[i,\"圖書館數量\"] = times\n"
      ],
      "metadata": {
        "id": "p8oKcvwdTf7Z"
      },
      "execution_count": 239,
      "outputs": []
    },
    {
      "cell_type": "code",
      "source": [
        "#lib_d=固定範圍(圖書館) lib_q=圖書館數量"
      ],
      "metadata": {
        "id": "T7VMm-Cm1hl3"
      },
      "execution_count": 240,
      "outputs": []
    },
    {
      "cell_type": "code",
      "source": [
        "#================= 4.捷運出口數 =============\n",
        "def mrt():\n",
        "\n",
        "  # 載入設施csv檔\n",
        "  df = pd.read_excel(\"data/設施座標表.xlsx\", sheet_name=\"捷運出口\")  \n",
        "\n",
        "  dh[\"固定範圍(捷運出口)\"]=float(dis)\n",
        "  dh[\"捷運出口數量\"]=\"\"\n",
        "  for i in range(len(dh)):\n",
        "      times = 0\n",
        "      origin_lat = str(dh[\"lat\"][i])\n",
        "      origin_long = str(dh[\"lng\"][i])\n",
        "      origin = (origin_lat, origin_long)\n",
        "      for j in range(len(df)):\n",
        "          destination_lat = str(df[\"lat\"][j])\n",
        "          destination_long = str(df[\"lng\"][j])\n",
        "          destination = (destination_lat, destination_long)\n",
        "          distance=geopy.distance.geodesic(origin, destination).km\n",
        "          try:\n",
        "              if distance <= float(dis):\n",
        "                  times = times + 1\n",
        "                  \n",
        "          except:\n",
        "              print(i,\"error\")\n",
        "      dh.at[i,\"捷運出口數量\"] = times"
      ],
      "metadata": {
        "id": "baXXjszQThW6"
      },
      "execution_count": 241,
      "outputs": []
    },
    {
      "cell_type": "code",
      "source": [
        "#mrt_d=固定範圍(捷運出口) mrt_q=捷運出口數量"
      ],
      "metadata": {
        "id": "I8Jqa1Ic1laP"
      },
      "execution_count": 242,
      "outputs": []
    },
    {
      "cell_type": "code",
      "source": [
        "#================= 5.學校 =============\n",
        "def edu():\n",
        "\n",
        "  # 載入設施csv檔\n",
        "  df = pd.read_excel(\"data/設施座標表.xlsx\", sheet_name=\"學校\") \n",
        "\n",
        "  dh[\"固定範圍(學校)\"]=float(dis)\n",
        "  dh[\"學校數量\"]=\"\"\n",
        "  for i in range(len(dh)):\n",
        "      times = 0\n",
        "      origin_lat = str(dh[\"lat\"][i])\n",
        "      origin_long = str(dh[\"lng\"][i])\n",
        "      origin = (origin_lat, origin_long)\n",
        "      for j in range(len(df)):\n",
        "          destination_lat = str(df[\"lat\"][j])\n",
        "          destination_long = str(df[\"lng\"][j])\n",
        "          destination = (destination_lat, destination_long)\n",
        "          distance=geopy.distance.geodesic(origin, destination).km\n",
        "          try:\n",
        "              if distance <= float(dis):\n",
        "                  times = times + 1\n",
        "                  \n",
        "          except:\n",
        "              print(i,\"error\")\n",
        "      dh.at[i,\"學校數量\"] = times\n",
        "      "
      ],
      "metadata": {
        "id": "RcS5MfNQTk7x"
      },
      "execution_count": 243,
      "outputs": []
    },
    {
      "cell_type": "code",
      "source": [
        "#edu_d=固定範圍(學校) edu_q=學校數量"
      ],
      "metadata": {
        "id": "N6GCmxX51poQ"
      },
      "execution_count": 244,
      "outputs": []
    },
    {
      "cell_type": "code",
      "source": [
        "#================= 6.消防 =============\n",
        "def fire():\n",
        "\n",
        "  # 載入設施csv檔\n",
        "  df = pd.read_excel(\"data/設施座標表.xlsx\", sheet_name=\"消防\") \n",
        "\n",
        "  dh[\"固定範圍(消防局)\"]=float(dis)\n",
        "  dh[\"消防局數量\"]=\"\"\n",
        "  for i in range(len(dh)):\n",
        "      times = 0\n",
        "      origin_lat = str(dh[\"lat\"][i])\n",
        "      origin_long = str(dh[\"lng\"][i])\n",
        "      origin = (origin_lat, origin_long)\n",
        "      for j in range(len(df)):\n",
        "          destination_lat = str(df[\"lat\"][j])\n",
        "          destination_long = str(df[\"lng\"][j])\n",
        "          destination = (destination_lat, destination_long)\n",
        "          distance=geopy.distance.geodesic(origin, destination).km\n",
        "          try:\n",
        "              if distance <= float(dis):\n",
        "                  times = times + 1\n",
        "                  \n",
        "          except:\n",
        "              print(i,\"error\")\n",
        "      dh.at[i,\"消防局數量\"] = times"
      ],
      "metadata": {
        "id": "dPXO-CSSTnEi"
      },
      "execution_count": 245,
      "outputs": []
    },
    {
      "cell_type": "code",
      "source": [
        "#fire_d=固定範圍(消防局) fire_q=消防局數量"
      ],
      "metadata": {
        "id": "M5HDQyHE19ka"
      },
      "execution_count": 246,
      "outputs": []
    },
    {
      "cell_type": "code",
      "source": [
        "#================= 7.禮儀 =============\n",
        "def dead():\n",
        "\n",
        "  # 載入設施csv檔\n",
        "  df = pd.read_excel(\"data/設施座標表.xlsx\", sheet_name=\"禮儀\")  \n",
        "\n",
        "  dh[\"固定範圍(禮儀)\"]=float(dis)\n",
        "  dh[\"禮儀數量\"]=\"\"\n",
        "  for i in range(len(dh)):\n",
        "      times = 0\n",
        "      origin_lat = str(dh[\"lat\"][i])\n",
        "      origin_long = str(dh[\"lng\"][i])\n",
        "      origin = (origin_lat, origin_long)\n",
        "      for j in range(len(df)):\n",
        "          destination_lat = str(df[\"lat\"][j])\n",
        "          destination_long = str(df[\"lng\"][j])\n",
        "          destination = (destination_lat, destination_long)\n",
        "          distance=geopy.distance.geodesic(origin, destination).km\n",
        "          try:\n",
        "              if distance <= float(dis):\n",
        "                  times = times + 1\n",
        "                  \n",
        "          except:\n",
        "              print(i,\"error\")\n",
        "      dh.at[i,\"禮儀數量\"] = times"
      ],
      "metadata": {
        "id": "eq-egfXbTn5C"
      },
      "execution_count": 247,
      "outputs": []
    },
    {
      "cell_type": "code",
      "source": [
        "#deade_d=固定範圍(禮儀) deade_q=禮儀數量"
      ],
      "metadata": {
        "id": "nQfTDf9g2BNH"
      },
      "execution_count": 248,
      "outputs": []
    },
    {
      "cell_type": "code",
      "source": [
        "#================= 8.警察 =============\n",
        "def pol():\n",
        "\n",
        "  # 載入設施csv檔\n",
        "  df = pd.read_excel(\"data/設施座標表.xlsx\", sheet_name=\"警察\")  \n",
        "\n",
        "  dh[\"固定範圍(警察)\"]=float(dis)\n",
        "  dh[\"警察局數量\"]=\"\"\n",
        "  for i in range(len(dh)):\n",
        "      times = 0\n",
        "      origin_lat = str(dh[\"lat\"][i])\n",
        "      origin_long = str(dh[\"lng\"][i])\n",
        "      origin = (origin_lat, origin_long)\n",
        "      for j in range(len(df)):\n",
        "          destination_lat = str(df[\"lat\"][j])\n",
        "          destination_long = str(df[\"lng\"][j])\n",
        "          destination = (destination_lat, destination_long)\n",
        "          distance=geopy.distance.geodesic(origin, destination).km\n",
        "          try:\n",
        "              if distance <= float(dis):\n",
        "                  times = times + 1\n",
        "                  \n",
        "          except:\n",
        "              print(i,\"error\")\n",
        "      dh.at[i,\"警察局數量\"] = times"
      ],
      "metadata": {
        "id": "RO8F8C3HTtqJ"
      },
      "execution_count": 249,
      "outputs": []
    },
    {
      "cell_type": "code",
      "source": [
        "#pol_d=固定範圍(警察局) pol_q=警察局數量"
      ],
      "metadata": {
        "id": "tilwn_h02Ejo"
      },
      "execution_count": 250,
      "outputs": []
    },
    {
      "cell_type": "code",
      "source": [
        "#================= 9.郵局 =============\n",
        "def post():\n",
        "\n",
        "  # 載入設施csv檔\n",
        "  df = pd.read_excel(\"data/設施座標表.xlsx\", sheet_name=\"郵局\") \n",
        "\n",
        "  dh[\"固定範圍(郵局)\"]=float(dis)\n",
        "  dh[\"郵局數量\"]=\"\"\n",
        "  for i in range(len(dh)):\n",
        "      times = 0\n",
        "      origin_lat = str(dh[\"lat\"][i])\n",
        "      origin_long = str(dh[\"lng\"][i])\n",
        "      origin = (origin_lat, origin_long)\n",
        "      for j in range(len(df)):\n",
        "          destination_lat = str(df[\"lat\"][j])\n",
        "          destination_long = str(df[\"lng\"][j])\n",
        "          destination = (destination_lat, destination_long)\n",
        "          distance=geopy.distance.geodesic(origin, destination).km\n",
        "          try:\n",
        "              if distance <= float(dis):\n",
        "                  times = times + 1\n",
        "                  \n",
        "          except:\n",
        "              print(i,\"error\")\n",
        "      dh.at[i,\"郵局數量\"] = times"
      ],
      "metadata": {
        "id": "YMGYN4oHTvkL"
      },
      "execution_count": 251,
      "outputs": []
    },
    {
      "cell_type": "code",
      "source": [
        "#post_d=固定範圍(郵局) post_q=郵局數量"
      ],
      "metadata": {
        "id": "M5S3vDTI2Hiw"
      },
      "execution_count": 252,
      "outputs": []
    },
    {
      "cell_type": "code",
      "source": [
        "#================= 10.醫療 =============\n",
        "def hosp():\n",
        "\n",
        "  # 載入設施csv檔\n",
        "  df = pd.read_excel(\"data/設施座標表.xlsx\", sheet_name=\"醫療\")  \n",
        "\n",
        "  dh[\"固定範圍(醫療)\"]=float(dis)\n",
        "  dh[\"醫療數量\"]=\"\"\n",
        "  for i in range(len(dh)):\n",
        "      times = 0\n",
        "      origin_lat = str(dh[\"lat\"][i])\n",
        "      origin_long = str(dh[\"lng\"][i])\n",
        "      origin = (origin_lat, origin_long)\n",
        "      for j in range(len(df)):\n",
        "          destination_lat = str(df[\"lat\"][j])\n",
        "          destination_long = str(df[\"lng\"][j])\n",
        "          destination = (destination_lat, destination_long)\n",
        "          distance=geopy.distance.geodesic(origin, destination).km\n",
        "          try:\n",
        "              if distance <= float(dis):\n",
        "                  times = times + 1\n",
        "                  \n",
        "          except:\n",
        "              print(i,\"error\")\n",
        "      dh.at[i,\"醫療數量\"] = times"
      ],
      "metadata": {
        "id": "ZtKFIwmLTwWS"
      },
      "execution_count": 253,
      "outputs": []
    },
    {
      "cell_type": "code",
      "source": [
        "#hosp_d=固定範圍(醫療) hosp_q=醫療數量"
      ],
      "metadata": {
        "id": "pEt-lY9Y2KXw"
      },
      "execution_count": 254,
      "outputs": []
    },
    {
      "cell_type": "code",
      "source": [
        "#================= 11.金融 =============\n",
        "def fin():\n",
        "\n",
        "  # 載入設施csv檔\n",
        "  df = pd.read_excel(\"data/設施座標表.xlsx\", sheet_name=\"金融\")  \n",
        "\n",
        "  dh[\"固定範圍(金融)\"]=float(dis)\n",
        "  dh[\"金融數量\"]=\"\"\n",
        "  for i in range(len(dh)):\n",
        "      times = 0\n",
        "      origin_lat = str(dh[\"lat\"][i])\n",
        "      origin_long = str(dh[\"lng\"][i])\n",
        "      origin = (origin_lat, origin_long)\n",
        "      for j in range(len(df)):\n",
        "          destination_lat = str(df[\"lat\"][j])\n",
        "          destination_long = str(df[\"lng\"][j])\n",
        "          destination = (destination_lat, destination_long)\n",
        "          distance=geopy.distance.geodesic(origin, destination).km\n",
        "          try:\n",
        "              if distance <= float(dis):\n",
        "                  times = times + 1\n",
        "                  \n",
        "          except:\n",
        "              print(i,\"error\")\n",
        "      dh.at[i,\"金融數量\"] = times"
      ],
      "metadata": {
        "id": "2Knc876-TyWK"
      },
      "execution_count": 255,
      "outputs": []
    },
    {
      "cell_type": "code",
      "source": [
        "#fin_d=固定範圍(金融) fin_q=金融數量"
      ],
      "metadata": {
        "id": "q6uJXAz22OU3"
      },
      "execution_count": 256,
      "outputs": []
    },
    {
      "cell_type": "code",
      "source": [
        "#主程式\n",
        "list1=(\"1公園\",\"2博物館\",\"3圖書館\",\"4捷運出口\",\"5學校\",\"6消防\",\"7禮儀\",\"8警察\",\"9郵局\",\"10醫療\",\"11金融\")\n",
        "\n",
        "print(list1)\n",
        "ch=input(\"請輸入要改變的設施:\")\n",
        "fi=input(\"請輸入初始距離(m):\")\n",
        "to=input(\"請輸入間隔距離(m)\")\n",
        "la=input(\"請輸入最遠距離(m):\")\n",
        "\n",
        "\n",
        "\n",
        "\n",
        "if ch == str(1):   \n",
        "  for k in range(int(fi),int(la),int(to)):\n",
        "    park()    \n",
        "if ch == str(2):\n",
        "  for k in range(int(fi),int(la),int(to)):\n",
        "   mu() \n",
        "if ch == str(3):\n",
        "  for k in range(int(fi),int(la),int(to)):\n",
        "   lib() \n",
        "if ch == str(4):\n",
        "  for k in range(int(fi),int(la),int(to)):\n",
        "   mrt() \n",
        "if ch == str(5):\n",
        "  for k in range(int(fi),int(la),int(to)):\n",
        "   edu() \n",
        "if ch == str(6):\n",
        "  for k in range(int(fi),int(la),int(to)):\n",
        "   fire() \n",
        "if ch == str(7):\n",
        "  for k in range(int(fi),int(la),int(to)):\n",
        "   dead() \n",
        "if ch == str(8):\n",
        "  for k in range(int(fi),int(la),int(to)):\n",
        "   pol() \n",
        "if ch == str(9):\n",
        "  for k in range(int(fi),int(la),int(to)):\n",
        "   post() \n",
        "if ch == str(10):\n",
        "  for k in range(int(fi),int(la),int(to)):\n",
        "   hosp() \n",
        "if ch == str(11):\n",
        "  for k in range(int(fi),int(la),int(to)):\n",
        "   fin() \n",
        "\n",
        "# dh.to_csv(\"台北市房屋交易_最新版.csv\", encoding = \"utf-8\", index=False)"
      ],
      "metadata": {
        "id": "LQBfeYPvT3es",
        "colab": {
          "base_uri": "https://localhost:8080/"
        },
        "outputId": "0205da93-ccdd-48a2-c019-9b22a0813784"
      },
      "execution_count": 257,
      "outputs": [
        {
          "name": "stdout",
          "output_type": "stream",
          "text": [
            "('1公園', '2博物館', '3圖書館', '4捷運出口', '5學校', '6消防', '7禮儀', '8警察', '9郵局', '10醫療', '11金融')\n",
            "請輸入要改變的設施:1\n",
            "請輸入初始距離(m):2000\n",
            "請輸入最遠距離(m):4000\n"
          ]
        }
      ]
    }
  ]
}