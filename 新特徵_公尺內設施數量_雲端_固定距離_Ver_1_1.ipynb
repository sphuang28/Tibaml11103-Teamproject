{
  "nbformat": 4,
  "nbformat_minor": 0,
  "metadata": {
    "colab": {
      "provenance": [],
      "authorship_tag": "ABX9TyMQS7gLIc3noddq4C0+ygqv",
      "include_colab_link": true
    },
    "kernelspec": {
      "name": "python3",
      "display_name": "Python 3"
    },
    "language_info": {
      "name": "python"
    }
  },
  "cells": [
    {
      "cell_type": "markdown",
      "metadata": {
        "id": "view-in-github",
        "colab_type": "text"
      },
      "source": [
        "<a href=\"https://colab.research.google.com/github/sphuang28/Tibaml11103-Teamproject/blob/main/%E6%96%B0%E7%89%B9%E5%BE%B5_%E5%85%AC%E5%B0%BA%E5%85%A7%E8%A8%AD%E6%96%BD%E6%95%B8%E9%87%8F_%E9%9B%B2%E7%AB%AF_%E5%9B%BA%E5%AE%9A%E8%B7%9D%E9%9B%A2_Ver_1_1.ipynb\" target=\"_parent\"><img src=\"https://colab.research.google.com/assets/colab-badge.svg\" alt=\"Open In Colab\"/></a>"
      ]
    },
    {
      "cell_type": "code",
      "execution_count": null,
      "metadata": {
        "id": "BWp1IND9TUeJ"
      },
      "outputs": [],
      "source": [
        "'''\n",
        "使用前注意事項:\n",
        "以下兩個檔案須注意路徑與名稱\n",
        "\n",
        "台北市房屋交易+特徵表需放在固定資料夾\n",
        "/content/drive/My Drive/Tibame_03期_第二組團專/訓練用資料/特徵檔案/\n",
        "\n",
        "1.主檔案 : 台北市房屋交易_all_standard&Normal.csv\n",
        "2.項設施座標 : 設施座標表Ver2.xlsx\n",
        "\n",
        "使用方式:\n",
        "針對所需要修改設施選擇後再輸入距離即可(單位為公里)\n",
        "\n",
        "'''"
      ]
    },
    {
      "cell_type": "code",
      "source": [
        "import pandas as pd\n",
        "import geopy.distance\n",
        "from google.colab import files\n",
        "import os\n",
        "from google.colab import drive\n",
        "\n",
        "drive.mount('/content/drive')\n",
        "os.chdir('/content/drive/My Drive/Tibame_03期_第二組團專/訓練用資料/特徵檔案') #切換該目錄\n",
        "os.listdir()"
      ],
      "metadata": {
        "id": "t8x-RB1A7Y1s"
      },
      "execution_count": null,
      "outputs": []
    },
    {
      "cell_type": "code",
      "source": [
        "name = input(\"請輸入名字後兩字：\")"
      ],
      "metadata": {
        "id": "zKbJhwLu2iQa"
      },
      "execution_count": null,
      "outputs": []
    },
    {
      "cell_type": "code",
      "source": [
        "# 載入房屋交易csv檔\n",
        "\n",
        "dh = pd.read_csv(\"/content/drive/My Drive/Tibame_03期_第二組團專/訓練用資料/特徵檔案/\"+str(name)+\"/台北市房屋交易_all_standard&Normal.csv\", encoding = \"utf-8\")\n",
        "pd.set_option('display.max_columns', 100)\n",
        "dh"
      ],
      "metadata": {
        "id": "MqbaUiKt3Oc-"
      },
      "execution_count": null,
      "outputs": []
    },
    {
      "cell_type": "code",
      "source": [
        "#================= 1.公園 =============\n",
        "def park():\n",
        "  if int(pa) == 0 :\n",
        "    pass\n",
        "  if int(pa) != 0 :\n",
        "\n",
        "  # 載入設施csv檔\n",
        "    df = pd.read_excel(\"content/drive/My Drive/Tibame_03期_第二組團專/訓練用資料/特徵檔案/設施座標表Ver2.xlsx\", sheet_name=\"公園\") \n",
        "    \n",
        "    dh[\"固定範圍(公園)\"]=int(pa)/1000\n",
        "    dh[\"公園數量\"]=\"\"\n",
        "    for i in range(len(dh)):\n",
        "        times = 0\n",
        "        origin_lat = str(dh[\"緯度\"][i])\n",
        "        origin_long = str(dh[\"經度\"][i])\n",
        "        origin = (origin_lat, origin_long)\n",
        "        for j in range(len(df)):\n",
        "            destination_lat = str(df[\"lat\"][j])\n",
        "            destination_long = str(df[\"lng\"][j])\n",
        "            destination = (destination_lat, destination_long)\n",
        "            distance=geopy.distance.geodesic(origin, destination).km\n",
        "            try:\n",
        "                if distance <= int(pa)/1000:\n",
        "                    times = times + 1\n",
        "                    \n",
        "            except:\n",
        "                print(i,\"error\")\n",
        "        dh.at[i,\"公園數量\"] = times"
      ],
      "metadata": {
        "id": "aM5x2J34Tbtq"
      },
      "execution_count": null,
      "outputs": []
    },
    {
      "cell_type": "code",
      "source": [
        "#================= 2.博物館 =============\n",
        "def mu():\n",
        "  if int(m) == 0 :\n",
        "    pass\n",
        "  if int(m) != 0 :\n",
        "\n",
        "    # 載入設施csv檔\n",
        "    df = pd.read_excel(\"content/drive/My Drive/Tibame_03期_第二組團專/訓練用資料/特徵檔案/設施座標表Ver2.xlsx\", sheet_name=\"博物館\")  \n",
        "\n",
        "    dh[\"固定範圍(博物館)\"]=int(m)/1000\n",
        "    dh[\"博物館數量\"]=\"\"\n",
        "    for i in range(len(dh)):\n",
        "        times = 0\n",
        "        origin_lat = str(dh[\"緯度\"][i])\n",
        "        origin_long = str(dh[\"經度\"][i])\n",
        "        origin = (origin_lat, origin_long)\n",
        "        for j in range(len(df)):\n",
        "            destination_lat = str(df[\"lat\"][j])\n",
        "            destination_long = str(df[\"lng\"][j])\n",
        "            destination = (destination_lat, destination_long)\n",
        "            distance=geopy.distance.geodesic(origin, destination).km\n",
        "            try:\n",
        "                if distance <= int(m)/1000:\n",
        "                    times = times + 1\n",
        "                    \n",
        "            except:\n",
        "                print(i,\"error\")\n",
        "        dh.at[i,\"博物館數量\"] = times"
      ],
      "metadata": {
        "id": "odUgkCQATd75"
      },
      "execution_count": null,
      "outputs": []
    },
    {
      "cell_type": "code",
      "source": [
        "#================= 3.圖書館 =============\n",
        "def lib():\n",
        "  if int(li) == 0 :\n",
        "    pass\n",
        "  if int(li) != 0 :\n",
        "\n",
        "    # 載入設施csv檔\n",
        "    df = pd.read_excel(\"content/drive/My Drive/Tibame_03期_第二組團專/訓練用資料/特徵檔案/設施座標表Ver2.xlsx\", sheet_name=\"圖書館\")  \n",
        "\n",
        "    dh[\"固定範圍(圖書館)\"]=int(li)/1000\n",
        "    dh[\"圖書館數量\"]=\"\"\n",
        "    for i in range(len(dh)):\n",
        "        times = 0\n",
        "        origin_lat = str(dh[\"緯度\"][i])\n",
        "        origin_long = str(dh[\"經度\"][i])\n",
        "        origin = (origin_lat, origin_long)\n",
        "        for j in range(len(df)):\n",
        "            destination_lat = str(df[\"lat\"][j])\n",
        "            destination_long = str(df[\"lng\"][j])\n",
        "            destination = (destination_lat, destination_long)\n",
        "            distance=geopy.distance.geodesic(origin, destination).km\n",
        "            try:\n",
        "                if distance <= int(li)/1000:\n",
        "                    times = times + 1\n",
        "                    \n",
        "            except:\n",
        "                print(i,\"error\")\n",
        "        dh.at[i,\"圖書館數量\"] = times"
      ],
      "metadata": {
        "id": "p8oKcvwdTf7Z"
      },
      "execution_count": null,
      "outputs": []
    },
    {
      "cell_type": "code",
      "source": [
        "#================= 4.捷運出口數 =============\n",
        "def mrt():\n",
        "  if int(mr) == 0 :\n",
        "    pass\n",
        "  if int(mr) != 0 :\n",
        "\n",
        "    # 載入設施csv檔\n",
        "    df = pd.read_excel(\"content/drive/My Drive/Tibame_03期_第二組團專/訓練用資料/特徵檔案/設施座標表Ver2.xlsx\", sheet_name=\"捷運出口\")  \n",
        "\n",
        "    dh[\"固定範圍(捷運出口)\"]=int(mr)/1000\n",
        "    dh[\"捷運出口數量\"]=\"\"\n",
        "    for i in range(len(dh)):\n",
        "        times = 0\n",
        "        origin_lat = str(dh[\"緯度\"][i])\n",
        "        origin_long = str(dh[\"經度\"][i])\n",
        "        origin = (origin_lat, origin_long)\n",
        "        for j in range(len(df)):\n",
        "            destination_lat = str(df[\"lat\"][j])\n",
        "            destination_long = str(df[\"lng\"][j])\n",
        "            destination = (destination_lat, destination_long)\n",
        "            distance=geopy.distance.geodesic(origin, destination).km\n",
        "            try:\n",
        "                if distance <= int(mr)/1000:\n",
        "                    times = times + 1\n",
        "                    \n",
        "            except:\n",
        "                print(i,\"error\")\n",
        "        dh.at[i,\"捷運出口數量\"] = times"
      ],
      "metadata": {
        "id": "baXXjszQThW6"
      },
      "execution_count": null,
      "outputs": []
    },
    {
      "cell_type": "code",
      "source": [
        "#================= 5.學校 =============\n",
        "def edu():\n",
        "  if int(ed) == 0 :\n",
        "    pass\n",
        "  if int(ed) != 0 :\n",
        "    # 載入設施csv檔\n",
        "    df = pd.read_excel(\"content/drive/My Drive/Tibame_03期_第二組團專/訓練用資料/特徵檔案/設施座標表Ver2.xlsx\", sheet_name=\"學校\") \n",
        "\n",
        "    dh[\"固定範圍(學校)\"]=int(ed)/1000\n",
        "    dh[\"學校數量\"]=\"\"\n",
        "    for i in range(len(dh)):\n",
        "        times = 0\n",
        "        origin_lat = str(dh[\"緯度\"][i])\n",
        "        origin_long = str(dh[\"經度\"][i])\n",
        "        origin = (origin_lat, origin_long)\n",
        "        for j in range(len(df)):\n",
        "            destination_lat = str(df[\"lat\"][j])\n",
        "            destination_long = str(df[\"lng\"][j])\n",
        "            destination = (destination_lat, destination_long)\n",
        "            distance=geopy.distance.geodesic(origin, destination).km\n",
        "            try:\n",
        "                if distance <= int(ed)/1000:\n",
        "                    times = times + 1\n",
        "                    \n",
        "            except:\n",
        "                print(i,\"error\")\n",
        "        dh.at[i,\"學校數量\"] = times"
      ],
      "metadata": {
        "id": "RcS5MfNQTk7x"
      },
      "execution_count": null,
      "outputs": []
    },
    {
      "cell_type": "code",
      "source": [
        "#================= 6.消防 =============\n",
        "def fire():\n",
        "  if int(fir) == 0 :\n",
        "    pass\n",
        "  if int(fir) != 0 :\n",
        "    # 載入設施csv檔\n",
        "    df = pd.read_excel(\"content/drive/My Drive/Tibame_03期_第二組團專/訓練用資料/特徵檔案/設施座標表Ver2.xlsx\", sheet_name=\"消防\") \n",
        "\n",
        "    dh[\"固定範圍(消防局)\"]=int(fir)/1000\n",
        "    dh[\"消防局數量\"]=\"\"\n",
        "    for i in range(len(dh)):\n",
        "        times = 0\n",
        "        origin_lat = str(dh[\"緯度\"][i])\n",
        "        origin_long = str(dh[\"經度\"][i])\n",
        "        origin = (origin_lat, origin_long)\n",
        "        for j in range(len(df)):\n",
        "            destination_lat = str(df[\"lat\"][j])\n",
        "            destination_long = str(df[\"lng\"][j])\n",
        "            destination = (destination_lat, destination_long)\n",
        "            distance=geopy.distance.geodesic(origin, destination).km\n",
        "            try:\n",
        "                if distance <= int(fir)/1000:\n",
        "                    times = times + 1\n",
        "                    \n",
        "            except:\n",
        "                print(i,\"error\")\n",
        "        dh.at[i,\"消防局數量\"] = times"
      ],
      "metadata": {
        "id": "dPXO-CSSTnEi"
      },
      "execution_count": null,
      "outputs": []
    },
    {
      "cell_type": "code",
      "source": [
        "#================= 7.禮儀 =============\n",
        "def dead():\n",
        "  if int(de) == 0 :\n",
        "    pass\n",
        "  if int(de) != 0 :\n",
        "\n",
        "    # 載入設施csv檔\n",
        "    df = pd.read_excel(\"content/drive/My Drive/Tibame_03期_第二組團專/訓練用資料/特徵檔案/設施座標表Ver2.xlsx\", sheet_name=\"禮儀\")  \n",
        "\n",
        "    dh[\"固定範圍(禮儀)\"]=int(de)/1000\n",
        "    dh[\"禮儀數量\"]=\"\"\n",
        "    for i in range(len(dh)):\n",
        "        times = 0\n",
        "        origin_lat = str(dh[\"緯度\"][i])\n",
        "        origin_long = str(dh[\"經度\"][i])\n",
        "        origin = (origin_lat, origin_long)\n",
        "        for j in range(len(df)):\n",
        "            destination_lat = str(df[\"lat\"][j])\n",
        "            destination_long = str(df[\"lng\"][j])\n",
        "            destination = (destination_lat, destination_long)\n",
        "            distance=geopy.distance.geodesic(origin, destination).km\n",
        "            try:\n",
        "                if distance <= int(de)/1000:\n",
        "                    times = times + 1\n",
        "                    \n",
        "            except:\n",
        "                print(i,\"error\")\n",
        "        dh.at[i,\"禮儀數量\"] = times"
      ],
      "metadata": {
        "id": "eq-egfXbTn5C"
      },
      "execution_count": null,
      "outputs": []
    },
    {
      "cell_type": "code",
      "source": [
        "#================= 8.警察 =============\n",
        "def pol():\n",
        "  if int(po) == 0 :\n",
        "    pass\n",
        "  if int(po) != 0 :\n",
        "\n",
        "    # 載入設施csv檔\n",
        "    df = pd.read_excel(\"content/drive/My Drive/Tibame_03期_第二組團專/訓練用資料/特徵檔案/設施座標表Ver2.xlsx\", sheet_name=\"警察\")  \n",
        "\n",
        "    dh[\"固定範圍(警察局)\"]=int(po)/1000\n",
        "    dh[\"警察局數量\"]=\"\"\n",
        "    for i in range(len(dh)):\n",
        "        times = 0\n",
        "        origin_lat = str(dh[\"緯度\"][i])\n",
        "        origin_long = str(dh[\"經度\"][i])\n",
        "        origin = (origin_lat, origin_long)\n",
        "        for j in range(len(df)):\n",
        "            destination_lat = str(df[\"lat\"][j])\n",
        "            destination_long = str(df[\"lng\"][j])\n",
        "            destination = (destination_lat, destination_long)\n",
        "            distance=geopy.distance.geodesic(origin, destination).km\n",
        "            try:\n",
        "                if distance <= int(po)/1000:\n",
        "                    times = times + 1\n",
        "                    \n",
        "            except:\n",
        "                print(i,\"error\")\n",
        "        dh.at[i,\"警察局數量\"] = times"
      ],
      "metadata": {
        "id": "RO8F8C3HTtqJ"
      },
      "execution_count": null,
      "outputs": []
    },
    {
      "cell_type": "code",
      "source": [
        "#================= 9.郵局 =============\n",
        "def post():\n",
        "  if int(pos) == 0 :\n",
        "    pass\n",
        "  if int(pos) != 0 :\n",
        "\n",
        "    # 載入設施csv檔\n",
        "    df = pd.read_excel(\"content/drive/My Drive/Tibame_03期_第二組團專/訓練用資料/特徵檔案/設施座標表Ver2.xlsx\", sheet_name=\"郵局\") \n",
        "\n",
        "    dh[\"固定範圍(郵局)\"]=int(pos)/1000\n",
        "    dh[\"郵局數量\"]=\"\"\n",
        "    for i in range(len(dh)):\n",
        "        times = 0\n",
        "        origin_lat = str(dh[\"緯度\"][i])\n",
        "        origin_long = str(dh[\"經度\"][i])\n",
        "        origin = (origin_lat, origin_long)\n",
        "        for j in range(len(df)):\n",
        "            destination_lat = str(df[\"lat\"][j])\n",
        "            destination_long = str(df[\"lng\"][j])\n",
        "            destination = (destination_lat, destination_long)\n",
        "            distance=geopy.distance.geodesic(origin, destination).km\n",
        "            try:\n",
        "                if distance <= int(pos)/1000:\n",
        "                    times = times + 1\n",
        "                    \n",
        "            except:\n",
        "                print(i,\"error\")\n",
        "        dh.at[i,\"郵局數量\"] = times"
      ],
      "metadata": {
        "id": "YMGYN4oHTvkL"
      },
      "execution_count": null,
      "outputs": []
    },
    {
      "cell_type": "code",
      "source": [
        "#================= 10.金融 =============\n",
        "def fin():\n",
        "  if int(fin) == 0 :\n",
        "    pass\n",
        "  if int(fin) != 0 :\n",
        "\n",
        "    # 載入設施csv檔\n",
        "    df = pd.read_excel(\"content/drive/My Drive/Tibame_03期_第二組團專/訓練用資料/特徵檔案/設施座標表Ver2.xlsx\", sheet_name=\"金融\")  \n",
        "\n",
        "    dh[\"固定範圍(金融)\"]=int(fin)/1000\n",
        "    dh[\"金融數量\"]=\"\"\n",
        "    for i in range(len(dh)):\n",
        "        times = 0\n",
        "        origin_lat = str(dh[\"緯度\"][i])\n",
        "        origin_long = str(dh[\"經度\"][i])\n",
        "        origin = (origin_lat, origin_long)\n",
        "        for j in range(len(df)):\n",
        "            destination_lat = str(df[\"lat\"][j])\n",
        "            destination_long = str(df[\"lng\"][j])\n",
        "            destination = (destination_lat, destination_long)\n",
        "            distance=geopy.distance.geodesic(origin, destination).km\n",
        "            try:\n",
        "                if distance <= int(fin)/1000:\n",
        "                    times = times + 1\n",
        "                    \n",
        "            except:\n",
        "                print(i,\"error\")\n",
        "        dh.at[i,\"金融數量\"] = times"
      ],
      "metadata": {
        "id": "ZtKFIwmLTwWS"
      },
      "execution_count": null,
      "outputs": []
    },
    {
      "cell_type": "code",
      "source": [
        "#================= 11.醫療醫院 =============\n",
        "def hosp():\n",
        "  if int(hos) == 0 :\n",
        "    pass\n",
        "  if int(hos) != 0 :\n",
        "\n",
        "    # 載入設施csv檔\n",
        "    df = pd.read_excel(\"content/drive/My Drive/Tibame_03期_第二組團專/訓練用資料/特徵檔案/設施座標表Ver2.xlsx\", sheet_name=\"醫療醫院\")  \n",
        "\n",
        "    dh[\"固定範圍(醫院)\"]=int(hos)/1000\n",
        "    dh[\"醫院數量\"]=\"\"\n",
        "    for i in range(len(dh)):\n",
        "        times = 0\n",
        "        origin_lat = str(dh[\"緯度\"][i])\n",
        "        origin_long = str(dh[\"經度\"][i])\n",
        "        origin = (origin_lat, origin_long)\n",
        "        for j in range(len(df)):\n",
        "            destination_lat = str(df[\"lat\"][j])\n",
        "            destination_long = str(df[\"lng\"][j])\n",
        "            destination = (destination_lat, destination_long)\n",
        "            distance=geopy.distance.geodesic(origin, destination).km\n",
        "            try:\n",
        "                if distance <= int(hos)/1000:\n",
        "                    times = times + 1\n",
        "                    \n",
        "            except:\n",
        "                print(i,\"error\")\n",
        "        dh.at[i,\"醫院數量\"] = times"
      ],
      "metadata": {
        "id": "VHMLRGx76wGk"
      },
      "execution_count": null,
      "outputs": []
    },
    {
      "cell_type": "code",
      "source": [
        "#================= 12.醫療診所 =============\n",
        "def clinic():\n",
        "  if int(cl) == 0 :\n",
        "    pass\n",
        "  if int(cl) != 0 :\n",
        "\n",
        "    # 載入設施csv檔\n",
        "    df = pd.read_excel(\"content/drive/My Drive/Tibame_03期_第二組團專/訓練用資料/特徵檔案/設施座標表Ver2.xlsx\", sheet_name=\"醫療診所\")  \n",
        "\n",
        "    dh[\"固定範圍(診所)\"]=int(cl)/1000\n",
        "    dh[\"診所數量\"]=\"\"\n",
        "    for i in range(len(dh)):\n",
        "        times = 0\n",
        "        origin_lat = str(dh[\"緯度\"][i])\n",
        "        origin_long = str(dh[\"經度\"][i])\n",
        "        origin = (origin_lat, origin_long)\n",
        "        for j in range(len(df)):\n",
        "            destination_lat = str(df[\"lat\"][j])\n",
        "            destination_long = str(df[\"lng\"][j])\n",
        "            destination = (destination_lat, destination_long)\n",
        "            distance=geopy.distance.geodesic(origin, destination).km\n",
        "            try:\n",
        "                if distance <= int(cl)/1000:\n",
        "                    times = times + 1\n",
        "                    \n",
        "            except:\n",
        "                print(i,\"error\")\n",
        "        dh.at[i,\"診所數量\"] = times"
      ],
      "metadata": {
        "id": "2ozKfyAV78OO"
      },
      "execution_count": null,
      "outputs": []
    },
    {
      "cell_type": "code",
      "source": [
        "#================= 13.醫療藥局 =============\n",
        "def pharmacy():\n",
        "  if int(ph) == 0 :\n",
        "    pass\n",
        "  if int(ph) != 0 :\n",
        "\n",
        "    # 載入設施csv檔\n",
        "    df = pd.read_excel(\"content/drive/My Drive/Tibame_03期_第二組團專/訓練用資料/特徵檔案/設施座標表Ver2.xlsx\", sheet_name=\"醫療藥局\")  \n",
        "\n",
        "    dh[\"固定範圍(藥局)\"]=int(ph)/1000\n",
        "    dh[\"藥局數量\"]=\"\"\n",
        "    for i in range(len(dh)):\n",
        "        times = 0\n",
        "        origin_lat = str(dh[\"緯度\"][i])\n",
        "        origin_long = str(dh[\"經度\"][i])\n",
        "        origin = (origin_lat, origin_long)\n",
        "        for j in range(len(df)):\n",
        "            destination_lat = str(df[\"lat\"][j])\n",
        "            destination_long = str(df[\"lng\"][j])\n",
        "            destination = (destination_lat, destination_long)\n",
        "            distance=geopy.distance.geodesic(origin, destination).km\n",
        "            try:\n",
        "                if distance <= int(ph)/1000:\n",
        "                    times = times + 1\n",
        "                    \n",
        "            except:\n",
        "                print(i,\"error\")\n",
        "        dh.at[i,\"藥局數量\"] = times\n"
      ],
      "metadata": {
        "id": "-c7ADpTw8KJc"
      },
      "execution_count": null,
      "outputs": []
    },
    {
      "cell_type": "code",
      "source": [
        "#主程式\n",
        "\n",
        "list1=(\"1公園\",\"2博物館\",\"3圖書館\",\"4捷運出口\",\"5學校\",\"6消防\",\"7禮儀\",\"8警察\",\"9郵局\",\"10醫療\",\"11金融\")\n",
        "print(list1)\n",
        "print(\"請輸入每個設施的距離(不要更動請按0):\")\n",
        "pa=input(\"公園距離:\")\n",
        "m=input(\"博物館距離:\")\n",
        "li=input(\"圖書館距離:\")\n",
        "mr=input(\"捷運出口距離:\")\n",
        "ed=input(\"學校距離:\")\n",
        "fir=input(\"消防距離:\")\n",
        "de=input(\"禮儀距離:\")\n",
        "po=input(\"警察距離:\")\n",
        "pos=input(\"郵局距離:\")\n",
        "fi=input(\"金融距離:\")\n",
        "hos=input(\"醫院距離:\")\n",
        "cl=input(\"診所距離:\")\n",
        "ph=input(\"藥局距離:\")\n",
        "\n",
        "park()   \n",
        "mu() \n",
        "lib() \n",
        "mrt() \n",
        "edu() \n",
        "fire() \n",
        "dead() \n",
        "pol() \n",
        "post()\n",
        "fin()  \n",
        "hosp()  \n",
        "clinic()\n",
        "pharmacy() \n",
        " \n",
        "dh.to_csv(\"/content/drive/My Drive/Tibame_03期_第二組團專/訓練用資料/特徵檔案/\"+str(name)+\"/台北市房屋交易_finish.csv\", encoding = \"utf-8\", index=False)"
      ],
      "metadata": {
        "id": "oTJBFJCp2EHo"
      },
      "execution_count": null,
      "outputs": []
    }
  ]
}