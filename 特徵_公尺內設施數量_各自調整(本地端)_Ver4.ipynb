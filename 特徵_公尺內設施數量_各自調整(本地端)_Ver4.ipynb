{
  "cells": [
    {
      "cell_type": "markdown",
      "metadata": {
        "id": "view-in-github",
        "colab_type": "text"
      },
      "source": [
        "<a href=\"https://colab.research.google.com/github/sphuang28/Tibaml11103-Teamproject/blob/main/%E7%89%B9%E5%BE%B5_%E5%85%AC%E5%B0%BA%E5%85%A7%E8%A8%AD%E6%96%BD%E6%95%B8%E9%87%8F_%E5%90%84%E8%87%AA%E8%AA%BF%E6%95%B4(%E6%9C%AC%E5%9C%B0%E7%AB%AF)_Ver4.ipynb\" target=\"_parent\"><img src=\"https://colab.research.google.com/assets/colab-badge.svg\" alt=\"Open In Colab\"/></a>"
      ]
    },
    {
      "cell_type": "code",
      "execution_count": null,
      "metadata": {
        "colab": {
          "base_uri": "https://localhost:8080/",
          "height": 55
        },
        "id": "BWp1IND9TUeJ",
        "outputId": "7022a291-1ac0-4e68-80d3-f3f73d48a921"
      },
      "outputs": [
        {
          "output_type": "execute_result",
          "data": {
            "text/plain": [
              "'\\n使用前注意事項:\\n以下兩個檔案須注意路徑與名稱\\n1.主檔案 : 房屋交易表\\n\\n2.設施座標表 : 各項設施座標\\n\\n使用方式:\\n針對所需要修改設施選擇後再輸入距離即可(單位為公里)\\n\\n'"
            ],
            "application/vnd.google.colaboratory.intrinsic+json": {
              "type": "string"
            }
          },
          "metadata": {},
          "execution_count": 557
        }
      ],
      "source": [
        "'''\n",
        "使用前注意事項:\n",
        "以下兩個檔案須注意路徑與名稱\n",
        "1.主檔案 : 房屋交易表\n",
        "\n",
        "2.設施座標表 : 各項設施座標\n",
        "\n",
        "使用方式:\n",
        "針對所需要修改設施選擇後再輸入距離即可(單位為公里)\n",
        "\n",
        "'''\n"
      ]
    },
    {
      "cell_type": "code",
      "execution_count": null,
      "metadata": {
        "id": "t8x-RB1A7Y1s"
      },
      "outputs": [],
      "source": [
        "import pandas as pd\n",
        "import geopy.distance\n",
        "from google.colab import files\n",
        "\n",
        "# 載入房屋交易csv檔\n",
        "\n",
        "dh = pd.read_csv(\"data/台北市房屋交易.csv\", encoding = \"utf-8\")\n",
        "pd.set_option('display.max_columns', 100)\n"
      ]
    },
    {
      "cell_type": "code",
      "execution_count": null,
      "metadata": {
        "id": "aM5x2J34Tbtq"
      },
      "outputs": [],
      "source": [
        "#================= 1.公園 =============\n",
        "def park():\n",
        "  if int(pa) == 0 :\n",
        "    pass\n",
        "  if int(pa) != 0 :\n",
        "    df = pd.read_excel(\"data/設施座標表.xlsx\", sheet_name=\"公園\") \n",
        "    # 載入設施csv檔\n",
        "  \n",
        "    dh[\"固定範圍(公園)\"]=int(pa)/1000\n",
        "    dh[\"公園數量\"]=\"\"\n",
        "    for i in range(len(dh)):\n",
        "        times = 0\n",
        "        origin_lat = str(dh[\"緯度\"][i])\n",
        "        origin_long = str(dh[\"經度\"][i])\n",
        "        origin = (origin_lat, origin_long)\n",
        "        for j in range(len(df)):\n",
        "            destination_lat = str(df[\"lat\"][j])\n",
        "            destination_long = str(df[\"lng\"][j])\n",
        "            destination = (destination_lat, destination_long)\n",
        "            distance=geopy.distance.geodesic(origin, destination).km\n",
        "            try:\n",
        "                if distance <= int(pa)/1000:\n",
        "                    times = times + 1\n",
        "\n",
        "            except:\n",
        "                print(i,\"error\")\n",
        "        dh.at[i,\"公園數量\"] = times"
      ]
    },
    {
      "cell_type": "code",
      "execution_count": null,
      "metadata": {
        "id": "odUgkCQATd75"
      },
      "outputs": [],
      "source": [
        "#================= 2.博物館 =============\n",
        "def mu():\n",
        "  if int(m) == 0 :\n",
        "    pass\n",
        "  if int(m) != 0 :    \n",
        "    # 載入設施csv檔\n",
        "    df = pd.read_excel(\"data/設施座標表.xlsx\", sheet_name=\"博物館\")  \n",
        "\n",
        "    dh[\"固定範圍(博物館)\"]=int(m)/1000\n",
        "    dh[\"博物館數量\"]=\"\"\n",
        "    for i in range(len(dh)):\n",
        "        times = 0\n",
        "        origin_lat = str(dh[\"緯度\"][i])\n",
        "        origin_long = str(dh[\"經度\"][i])\n",
        "        origin = (origin_lat, origin_long)\n",
        "        for j in range(len(df)):\n",
        "            destination_lat = str(df[\"lat\"][j])\n",
        "            destination_long = str(df[\"lng\"][j])\n",
        "            destination = (destination_lat, destination_long)\n",
        "            distance=geopy.distance.geodesic(origin, destination).km\n",
        "            try:\n",
        "                if distance <= int(m)/1000:\n",
        "                    times = times + 1\n",
        "\n",
        "            except:\n",
        "                print(i,\"error\")\n",
        "        dh.at[i,\"博物館數量\"] = times"
      ]
    },
    {
      "cell_type": "code",
      "execution_count": null,
      "metadata": {
        "id": "p8oKcvwdTf7Z"
      },
      "outputs": [],
      "source": [
        "#================= 3.圖書館 =============\n",
        "def lib():\n",
        "  if int(li) == 0 :\n",
        "    pass\n",
        "  if int(li) != 0 :\n",
        "    # 載入設施csv檔\n",
        "    df = pd.read_excel(\"data/設施座標表.xlsx\", sheet_name=\"圖書館\")  \n",
        "\n",
        "    dh[\"固定範圍(圖書館)\"]=int(li)/1000\n",
        "    dh[\"圖書館數量\"]=\"\"\n",
        "    for i in range(len(dh)):\n",
        "        times = 0\n",
        "        origin_lat = str(dh[\"緯度\"][i])\n",
        "        origin_long = str(dh[\"經度\"][i])\n",
        "        origin = (origin_lat, origin_long)\n",
        "        for j in range(len(df)):\n",
        "            destination_lat = str(df[\"lat\"][j])\n",
        "            destination_long = str(df[\"lng\"][j])\n",
        "            destination = (destination_lat, destination_long)\n",
        "            distance=geopy.distance.geodesic(origin, destination).km\n",
        "            try:\n",
        "                if distance <= int(li)/1000:\n",
        "                    times = times + 1\n",
        "                    \n",
        "            except:\n",
        "                print(i,\"error\")\n",
        "        dh.at[i,\"圖書館數量\"] = times"
      ]
    },
    {
      "cell_type": "code",
      "execution_count": null,
      "metadata": {
        "id": "baXXjszQThW6"
      },
      "outputs": [],
      "source": [
        "#================= 4.捷運出口數 =============\n",
        "def mrt():\n",
        "  if int(mr) == 0 :\n",
        "    pass\n",
        "  if int(mr) != 0 :\n",
        "    # 載入設施csv檔\n",
        "    df = pd.read_excel(\"data/設施座標表.xlsx\", sheet_name=\"捷運出口\")  \n",
        "\n",
        "    dh[\"固定範圍(捷運出口)\"]=int(mr)/1000\n",
        "    dh[\"捷運出口數量\"]=\"\"\n",
        "    for i in range(len(dh)):\n",
        "        times = 0\n",
        "        origin_lat = str(dh[\"緯度\"][i])\n",
        "        origin_long = str(dh[\"經度\"][i])\n",
        "        origin = (origin_lat, origin_long)\n",
        "        for j in range(len(df)):\n",
        "            destination_lat = str(df[\"lat\"][j])\n",
        "            destination_long = str(df[\"lng\"][j])\n",
        "            destination = (destination_lat, destination_long)\n",
        "            distance=geopy.distance.geodesic(origin, destination).km\n",
        "            try:\n",
        "                if distance <= int(mr)/1000:\n",
        "                    times = times + 1\n",
        "                    \n",
        "            except:\n",
        "                print(i,\"error\")\n",
        "        dh.at[i,\"捷運出口數量\"] = times"
      ]
    },
    {
      "cell_type": "code",
      "execution_count": null,
      "metadata": {
        "id": "RcS5MfNQTk7x"
      },
      "outputs": [],
      "source": [
        "#================= 5.學校 =============\n",
        "def edu():\n",
        "  if int(ed) == 0 :\n",
        "    pass\n",
        "  if int(ed) != 0 :\n",
        "    # 載入設施csv檔\n",
        "    df = pd.read_excel(\"data/設施座標表.xlsx\", sheet_name=\"學校\") \n",
        "\n",
        "    dh[\"固定範圍(學校)\"]=int(ed)/1000\n",
        "    dh[\"學校數量\"]=\"\"\n",
        "    for i in range(len(dh)):\n",
        "        times = 0\n",
        "        origin_lat = str(dh[\"緯度\"][i])\n",
        "        origin_long = str(dh[\"經度\"][i])\n",
        "        origin = (origin_lat, origin_long)\n",
        "        for j in range(len(df)):\n",
        "            destination_lat = str(df[\"lat\"][j])\n",
        "            destination_long = str(df[\"lng\"][j])\n",
        "            destination = (destination_lat, destination_long)\n",
        "            distance=geopy.distance.geodesic(origin, destination).km\n",
        "            try:\n",
        "                if distance <= int(ed)/1000:\n",
        "                    times = times + 1\n",
        "                    \n",
        "            except:\n",
        "                print(i,\"error\")\n",
        "        dh.at[i,\"學校數量\"] = times    "
      ]
    },
    {
      "cell_type": "code",
      "execution_count": null,
      "metadata": {
        "id": "dPXO-CSSTnEi"
      },
      "outputs": [],
      "source": [
        "#================= 6.消防 =============\n",
        "def fire():\n",
        "  if int(fir) == 0 :\n",
        "    pass\n",
        "  if int(fir) != 0 :\n",
        "    # 載入設施csv檔\n",
        "    df = pd.read_excel(\"data/設施座標表.xlsx\", sheet_name=\"消防\") \n",
        "\n",
        "    dh[\"固定範圍(消防局)\"]=int(fir)/1000\n",
        "    dh[\"消防局數量\"]=\"\"\n",
        "    for i in range(len(dh)):\n",
        "        times = 0\n",
        "        origin_lat = str(dh[\"緯度\"][i])\n",
        "        origin_long = str(dh[\"經度\"][i])\n",
        "        origin = (origin_lat, origin_long)\n",
        "        for j in range(len(df)):\n",
        "            destination_lat = str(df[\"lat\"][j])\n",
        "            destination_long = str(df[\"lng\"][j])\n",
        "            destination = (destination_lat, destination_long)\n",
        "            distance=geopy.distance.geodesic(origin, destination).km\n",
        "            try:\n",
        "                if distance <= int(fir)/1000:\n",
        "                    times = times + 1\n",
        "                    \n",
        "            except:\n",
        "                print(i,\"error\")\n",
        "        dh.at[i,\"消防局數量\"] = times\n"
      ]
    },
    {
      "cell_type": "code",
      "execution_count": null,
      "metadata": {
        "id": "eq-egfXbTn5C"
      },
      "outputs": [],
      "source": [
        "#================= 7.禮儀 =============\n",
        "def dead():\n",
        "  if int(de) == 0 :\n",
        "    pass\n",
        "  if int(de) != 0 :\n",
        "    # 載入設施csv檔\n",
        "    df = pd.read_excel(\"data/設施座標表.xlsx\", sheet_name=\"禮儀\")  \n",
        "\n",
        "    dh[\"固定範圍(禮儀)\"]=int(de)/1000\n",
        "    dh[\"禮儀數量\"]=\"\"\n",
        "    for i in range(len(dh)):\n",
        "        times = 0\n",
        "        origin_lat = str(dh[\"緯度\"][i])\n",
        "        origin_long = str(dh[\"經度\"][i])\n",
        "        origin = (origin_lat, origin_long)\n",
        "        for j in range(len(df)):\n",
        "            destination_lat = str(df[\"lat\"][j])\n",
        "            destination_long = str(df[\"lng\"][j])\n",
        "            destination = (destination_lat, destination_long)\n",
        "            distance=geopy.distance.geodesic(origin, destination).km\n",
        "            try:\n",
        "                if distance <= int(de)/1000:\n",
        "                    times = times + 1\n",
        "                    \n",
        "            except:\n",
        "                print(i,\"error\")\n",
        "        dh.at[i,\"禮儀數量\"] = times     "
      ]
    },
    {
      "cell_type": "code",
      "execution_count": null,
      "metadata": {
        "id": "RO8F8C3HTtqJ"
      },
      "outputs": [],
      "source": [
        "#================= 8.警察 =============\n",
        "def pol():\n",
        "  if int(po) == 0 :\n",
        "    pass\n",
        "  if int(po) != 0 :\n",
        "    # 載入設施csv檔\n",
        "    df = pd.read_excel(\"data/設施座標表.xlsx\", sheet_name=\"警察\")  \n",
        "\n",
        "    dh[\"固定範圍(警察局)\"]=int(po)/1000\n",
        "    dh[\"警察局數量\"]=\"\"\n",
        "    for i in range(len(dh)):\n",
        "        times = 0\n",
        "        origin_lat = str(dh[\"緯度\"][i])\n",
        "        origin_long = str(dh[\"經度\"][i])\n",
        "        origin = (origin_lat, origin_long)\n",
        "        for j in range(len(df)):\n",
        "            destination_lat = str(df[\"lat\"][j])\n",
        "            destination_long = str(df[\"lng\"][j])\n",
        "            destination = (destination_lat, destination_long)\n",
        "            distance=geopy.distance.geodesic(origin, destination).km\n",
        "            try:\n",
        "                if distance <= int(po)/1000:\n",
        "                    times = times + 1\n",
        "                    \n",
        "            except:\n",
        "                print(i,\"error\")\n",
        "        dh.at[i,\"警察局數量\"] = times"
      ]
    },
    {
      "cell_type": "code",
      "execution_count": null,
      "metadata": {
        "id": "YMGYN4oHTvkL"
      },
      "outputs": [],
      "source": [
        "#================= 9.郵局 =============\n",
        "def post():\n",
        "  if int(pos) == 0 :\n",
        "    pass\n",
        "  if int(pos) != 0 :\n",
        "    # 載入設施csv檔\n",
        "    df = pd.read_excel(\"data/設施座標表.xlsx\", sheet_name=\"郵局\") \n",
        "\n",
        "    dh[\"固定範圍(郵局)\"]=int(pos)/1000\n",
        "    dh[\"郵局數量\"]=\"\"\n",
        "    for i in range(len(dh)):\n",
        "        times = 0\n",
        "        origin_lat = str(dh[\"緯度\"][i])\n",
        "        origin_long = str(dh[\"經度\"][i])\n",
        "        origin = (origin_lat, origin_long)\n",
        "        for j in range(len(df)):\n",
        "            destination_lat = str(df[\"lat\"][j])\n",
        "            destination_long = str(df[\"lng\"][j])\n",
        "            destination = (destination_lat, destination_long)\n",
        "            distance=geopy.distance.geodesic(origin, destination).km\n",
        "            try:\n",
        "                if distance <= int(pos)/1000:\n",
        "                    times = times + 1\n",
        "                    \n",
        "            except:\n",
        "                print(i,\"error\")\n",
        "        dh.at[i,\"郵局數量\"] = times"
      ]
    },
    {
      "cell_type": "code",
      "execution_count": null,
      "metadata": {
        "id": "ZtKFIwmLTwWS"
      },
      "outputs": [],
      "source": [
        "#================= 10.醫療 =============\n",
        "def hosp():\n",
        "  if int(hos) == 0 :\n",
        "    pass\n",
        "  if int(hos) != 0 :\n",
        "    # 載入設施csv檔\n",
        "    df = pd.read_excel(\"data/設施座標表.xlsx\", sheet_name=\"醫療\")  \n",
        "\n",
        "    dh[\"固定範圍(醫療)\"]=int(hos)/1000\n",
        "    dh[\"醫療數量\"]=\"\"\n",
        "    for i in range(len(dh)):\n",
        "        times = 0\n",
        "        origin_lat = str(dh[\"緯度\"][i])\n",
        "        origin_long = str(dh[\"經度\"][i])\n",
        "        origin = (origin_lat, origin_long)\n",
        "        for j in range(len(df)):\n",
        "            destination_lat = str(df[\"lat\"][j])\n",
        "            destination_long = str(df[\"lng\"][j])\n",
        "            destination = (destination_lat, destination_long)\n",
        "            distance=geopy.distance.geodesic(origin, destination).km\n",
        "            try:\n",
        "                if distance <= int(hos)/1000:\n",
        "                    times = times + 1\n",
        "                    \n",
        "            except:\n",
        "                print(i,\"error\")\n",
        "        dh.at[i,\"醫療數量\"] = times"
      ]
    },
    {
      "cell_type": "code",
      "execution_count": null,
      "metadata": {
        "id": "2Knc876-TyWK"
      },
      "outputs": [],
      "source": [
        "#================= 11.金融 =============\n",
        "def fin():\n",
        "  if int(fi) == 0 :\n",
        "    pass\n",
        "  if int(fi) != 0 :  \n",
        "    # 載入設施csv檔\n",
        "    df = pd.read_excel(\"data/設施座標表.xlsx\", sheet_name=\"金融\")  \n",
        "\n",
        "    dh[\"固定範圍(金融)\"]=int(fi)/1000\n",
        "    dh[\"金融數量\"]=\"\"\n",
        "    for i in range(len(dh)):\n",
        "        times = 0\n",
        "        origin_lat = str(dh[\"緯度\"][i])\n",
        "        origin_long = str(dh[\"經度\"][i])\n",
        "        origin = (origin_lat, origin_long)\n",
        "        for j in range(len(df)):\n",
        "            destination_lat = str(df[\"lat\"][j])\n",
        "            destination_long = str(df[\"lng\"][j])\n",
        "            destination = (destination_lat, destination_long)\n",
        "            distance=geopy.distance.geodesic(origin, destination).km\n",
        "            try:\n",
        "                if distance <= int(fi)/1000:\n",
        "                    times = times + 1\n",
        "                    \n",
        "            except:\n",
        "                print(i,\"error\")\n",
        "        dh.at[i,\"金融數量\"] = times"
      ]
    },
    {
      "cell_type": "code",
      "execution_count": null,
      "metadata": {
        "colab": {
          "base_uri": "https://localhost:8080/"
        },
        "id": "LQBfeYPvT3es",
        "outputId": "20299a63-cd96-4383-f8ee-4df63a8d024b"
      },
      "outputs": [
        {
          "name": "stdout",
          "output_type": "stream",
          "text": [
            "請輸入存檔版次：1\n",
            "('1公園', '2博物館', '3圖書館', '4捷運出口', '5學校', '6消防', '7禮儀', '8警察', '9郵局', '10醫療', '11金融')\n",
            "請輸入每個設施的初始條件(不要更動請按0):\n",
            "公園距離:1000\n",
            "博物館距離:1000\n",
            "圖書館距離:1000\n",
            "捷運出口距離:1000\n",
            "學校距離:1000\n",
            "消防距離:1000\n",
            "禮儀距離:1000\n",
            "警察距離:1000\n",
            "郵局距離:1000\n",
            "醫療距離:1000\n",
            "金融距離:1000\n"
          ]
        }
      ],
      "source": [
        "#主程式\n",
        "\n",
        "ver = input(\"請輸入存檔版次：\")\n",
        "\n",
        "list1=(\"1公園\",\"2博物館\",\"3圖書館\",\"4捷運出口\",\"5學校\",\"6消防\",\"7禮儀\",\"8警察\",\"9郵局\",\"10醫療\",\"11金融\")\n",
        "print(list1)\n",
        "print(\"請輸入每個設施的初始條件(不要更動請按0):\")\n",
        "pa=input(\"公園距離:\")\n",
        "m=input(\"博物館距離:\")\n",
        "li=input(\"圖書館距離:\")\n",
        "mr=input(\"捷運出口距離:\")\n",
        "ed=input(\"學校距離:\")\n",
        "fir=input(\"消防距離:\")\n",
        "de=input(\"禮儀距離:\")\n",
        "po=input(\"警察距離:\")\n",
        "pos=input(\"郵局距離:\")\n",
        "hos=input(\"醫療距離:\")\n",
        "fi=input(\"金融距離:\")\n",
        "\n",
        "park()   \n",
        "mu() \n",
        "lib() \n",
        "mrt() \n",
        "edu() \n",
        "fire() \n",
        "dead() \n",
        "pol() \n",
        "post() \n",
        "hosp() \n",
        "fin() \n",
        "\n",
        "dh.to_csv(\"台北市房屋交易_調整版Ver.\"+str(ver)+\"版.csv\", encoding = \"utf-8\", index=False)\n",
        "files.download(\"台北市房屋交易_調整版\"+str(ver)+\".csv\")"
      ]
    }
  ],
  "metadata": {
    "colab": {
      "provenance": [],
      "authorship_tag": "ABX9TyP8MrL51MTIkDZw133S3bJ2",
      "include_colab_link": true
    },
    "kernelspec": {
      "display_name": "Python 3",
      "name": "python3"
    },
    "language_info": {
      "name": "python"
    }
  },
  "nbformat": 4,
  "nbformat_minor": 0
}