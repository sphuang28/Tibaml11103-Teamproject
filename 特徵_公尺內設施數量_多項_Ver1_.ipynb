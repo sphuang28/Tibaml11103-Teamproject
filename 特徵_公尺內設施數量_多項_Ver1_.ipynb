{
  "nbformat": 4,
  "nbformat_minor": 0,
  "metadata": {
    "colab": {
      "provenance": [],
      "include_colab_link": true
    },
    "kernelspec": {
      "name": "python3",
      "display_name": "Python 3"
    },
    "language_info": {
      "name": "python"
    }
  },
  "cells": [
    {
      "cell_type": "markdown",
      "metadata": {
        "id": "view-in-github",
        "colab_type": "text"
      },
      "source": [
        "<a href=\"https://colab.research.google.com/github/sphuang28/tibaml1017-teamproject/blob/main/%E7%89%B9%E5%BE%B5_%E5%85%AC%E5%B0%BA%E5%85%A7%E8%A8%AD%E6%96%BD%E6%95%B8%E9%87%8F_%E5%A4%9A%E9%A0%85_Ver1_.ipynb\" target=\"_parent\"><img src=\"https://colab.research.google.com/assets/colab-badge.svg\" alt=\"Open In Colab\"/></a>"
      ]
    },
    {
      "cell_type": "code",
      "execution_count": null,
      "metadata": {
        "id": "srxRplr5CfNT"
      },
      "outputs": [],
      "source": [
        "import pandas as pd\n",
        "import geopy.distance\n",
        "# 載入房屋交易csv檔\n",
        "\n",
        "dh = pd.read_csv(\"data/台北市房屋交易_最新版.csv\", encoding = \"utf-8\")\n",
        "pd.set_option('display.max_columns', 100)\n"
      ]
    },
    {
      "cell_type": "code",
      "source": [
        "#================= 1.公園 =============\n",
        "def park():\n",
        "\n",
        "  # 載入設施csv檔\n",
        "  df = pd.read_csv(\"data/公園.csv\", encoding = \"utf-8\") \n",
        "  \n",
        "  dh[\"park_d\"]=float(dis)\n",
        "  dh[\"park_q\"]=\"\"\n",
        "  for i in range(len(dh)):\n",
        "      times = 0\n",
        "      origin_lat = str(dh[\"lat\"][i])\n",
        "      origin_long = str(dh[\"lng\"][i])\n",
        "      origin = (origin_lat, origin_long)\n",
        "      for j in range(len(df)):\n",
        "          destination_lat = str(df[\"lat\"][j])\n",
        "          destination_long = str(df[\"lng\"][j])\n",
        "          destination = (destination_lat, destination_long)\n",
        "          distance=geopy.distance.geodesic(origin, destination).km\n",
        "          try:\n",
        "              if distance <= float(dis):\n",
        "                  times = times + 1\n",
        "                  \n",
        "          except:\n",
        "              print(i,\"error\")\n",
        "      dh.at[i,\"post_q\"] = times\n",
        "\n"
      ],
      "metadata": {
        "id": "5w-K5W_kD_9f"
      },
      "execution_count": null,
      "outputs": []
    },
    {
      "cell_type": "code",
      "source": [
        "#================= 2.博物館 =============\n",
        "def mu():\n",
        "\n",
        "  # 載入設施csv檔\n",
        "  df = pd.read_csv(\"data/博物館.csv\", encoding = \"utf-8\") \n",
        "\n",
        "  dh[\"mu_d\"]=float(dis)\n",
        "  dh[\"mu_q\"]=\"\"\n",
        "  for i in range(len(dh)):\n",
        "      times = 0\n",
        "      origin_lat = str(dh[\"lat\"][i])\n",
        "      origin_long = str(dh[\"lng\"][i])\n",
        "      origin = (origin_lat, origin_long)\n",
        "      for j in range(len(df)):\n",
        "          destination_lat = str(df[\"lat\"][j])\n",
        "          destination_long = str(df[\"lng\"][j])\n",
        "          destination = (destination_lat, destination_long)\n",
        "          distance=geopy.distance.geodesic(origin, destination).km\n",
        "          try:\n",
        "              if distance <= float(dis):\n",
        "                  times = times + 1\n",
        "                  \n",
        "          except:\n",
        "              print(i,\"error\")\n",
        "      dh.at[i,\"mu_q\"] = times\n",
        "\n"
      ],
      "metadata": {
        "id": "9voadfDwEHHW"
      },
      "execution_count": null,
      "outputs": []
    },
    {
      "cell_type": "code",
      "source": [
        "#================= 3.圖書館 =============\n",
        "def lib():\n",
        "\n",
        "  # 載入設施csv檔\n",
        "  df = pd.read_csv(\"data/圖書館數.csv\", encoding = \"utf-8\") \n",
        "\n",
        "  dh[\"lib_d\"]=float(dis)\n",
        "  dh[\"lib_q\"]=\"\"\n",
        "  for i in range(len(dh)):\n",
        "      times = 0\n",
        "      origin_lat = str(dh[\"lat\"][i])\n",
        "      origin_long = str(dh[\"lng\"][i])\n",
        "      origin = (origin_lat, origin_long)\n",
        "      for j in range(len(df)):\n",
        "          destination_lat = str(df[\"lat\"][j])\n",
        "          destination_long = str(df[\"lng\"][j])\n",
        "          destination = (destination_lat, destination_long)\n",
        "          distance=geopy.distance.geodesic(origin, destination).km\n",
        "          try:\n",
        "              if distance <= float(dis):\n",
        "                  times = times + 1\n",
        "                  \n",
        "          except:\n",
        "              print(i,\"error\")\n",
        "      dh.at[i,\"lib_q\"] = times\n",
        "\n"
      ],
      "metadata": {
        "id": "dQ_Luy-oEwZS"
      },
      "execution_count": null,
      "outputs": []
    },
    {
      "cell_type": "code",
      "source": [
        "#================= 4.捷運出口數 =============\n",
        "def mrt():\n",
        "\n",
        "  # 載入設施csv檔\n",
        "  df = pd.read_csv(\"data/捷運出口數.csv\", encoding = \"utf-8\") \n",
        "\n",
        "  dh[\"mrt_d\"]=float(dis)\n",
        "  dh[\"mrt_q\"]=\"\"\n",
        "  for i in range(len(dh)):\n",
        "      times = 0\n",
        "      origin_lat = str(dh[\"lat\"][i])\n",
        "      origin_long = str(dh[\"lng\"][i])\n",
        "      origin = (origin_lat, origin_long)\n",
        "      for j in range(len(df)):\n",
        "          destination_lat = str(df[\"lat\"][j])\n",
        "          destination_long = str(df[\"lng\"][j])\n",
        "          destination = (destination_lat, destination_long)\n",
        "          distance=geopy.distance.geodesic(origin, destination).km\n",
        "          try:\n",
        "              if distance <= float(dis):\n",
        "                  times = times + 1\n",
        "                  \n",
        "          except:\n",
        "              print(i,\"error\")\n",
        "      dh.at[i,\"mrt_q\"] = times\n",
        "\n"
      ],
      "metadata": {
        "id": "MAvKPvZpE6uZ"
      },
      "execution_count": null,
      "outputs": []
    },
    {
      "cell_type": "code",
      "source": [
        "#================= 5.學校 =============\n",
        "def edu():\n",
        "\n",
        "  # 載入設施csv檔\n",
        "  df = pd.read_csv(\"data/學校.csv\", encoding = \"utf-8\") \n",
        "\n",
        "  dh[\"edu_d\"]=float(dis)\n",
        "  dh[\"edu_q\"]=\"\"\n",
        "  for i in range(len(dh)):\n",
        "      times = 0\n",
        "      origin_lat = str(dh[\"lat\"][i])\n",
        "      origin_long = str(dh[\"lng\"][i])\n",
        "      origin = (origin_lat, origin_long)\n",
        "      for j in range(len(df)):\n",
        "          destination_lat = str(df[\"lat\"][j])\n",
        "          destination_long = str(df[\"lng\"][j])\n",
        "          destination = (destination_lat, destination_long)\n",
        "          distance=geopy.distance.geodesic(origin, destination).km\n",
        "          try:\n",
        "              if distance <= float(dis):\n",
        "                  times = times + 1\n",
        "                  \n",
        "          except:\n",
        "              print(i,\"error\")\n",
        "      dh.at[i,\"edu_q\"] = times\n",
        "\n"
      ],
      "metadata": {
        "id": "LyWXWraoFANw"
      },
      "execution_count": null,
      "outputs": []
    },
    {
      "cell_type": "code",
      "source": [
        "#================= 6.消防 =============\n",
        "def fire():\n",
        "\n",
        "  # 載入設施csv檔\n",
        "  df = pd.read_csv(\"data/消防.csv\", encoding = \"utf-8\")\n",
        "\n",
        "  dh[\"fire_d\"]=float(dis)\n",
        "  dh[\"fire_q\"]=\"\"\n",
        "  for i in range(len(dh)):\n",
        "      times = 0\n",
        "      origin_lat = str(dh[\"lat\"][i])\n",
        "      origin_long = str(dh[\"lng\"][i])\n",
        "      origin = (origin_lat, origin_long)\n",
        "      for j in range(len(df)):\n",
        "          destination_lat = str(df[\"lat\"][j])\n",
        "          destination_long = str(df[\"lng\"][j])\n",
        "          destination = (destination_lat, destination_long)\n",
        "          distance=geopy.distance.geodesic(origin, destination).km\n",
        "          try:\n",
        "              if distance <= float(dis):\n",
        "                  times = times + 1\n",
        "                  \n",
        "          except:\n",
        "              print(i,\"error\")\n",
        "      dh.at[i,\"fire_q\"] = times\n",
        "\n"
      ],
      "metadata": {
        "id": "bFBrd6U7Mhla"
      },
      "execution_count": null,
      "outputs": []
    },
    {
      "cell_type": "code",
      "source": [
        "#================= 7.禮儀 =============\n",
        "def dead():\n",
        "\n",
        "  # 載入設施csv檔\n",
        "  df = pd.read_csv(\"data/禮儀.csv\", encoding = \"utf-8\") \n",
        "\n",
        "  dh[\"dead_d\"]=float(dis)\n",
        "  dh[\"dead_q\"]=\"\"\n",
        "  for i in range(len(dh)):\n",
        "      times = 0\n",
        "      origin_lat = str(dh[\"lat\"][i])\n",
        "      origin_long = str(dh[\"lng\"][i])\n",
        "      origin = (origin_lat, origin_long)\n",
        "      for j in range(len(df)):\n",
        "          destination_lat = str(df[\"lat\"][j])\n",
        "          destination_long = str(df[\"lng\"][j])\n",
        "          destination = (destination_lat, destination_long)\n",
        "          distance=geopy.distance.geodesic(origin, destination).km\n",
        "          try:\n",
        "              if distance <= float(dis):\n",
        "                  times = times + 1\n",
        "                  \n",
        "          except:\n",
        "              print(i,\"error\")\n",
        "      dh.at[i,\"deade_q\"] = times\n",
        "\n"
      ],
      "metadata": {
        "id": "1N9tm1p3FLmy"
      },
      "execution_count": null,
      "outputs": []
    },
    {
      "cell_type": "code",
      "source": [
        "#================= 8.警察 =============\n",
        "def pol():\n",
        "\n",
        "  # 載入設施csv檔\n",
        "  df = pd.read_csv(\"data/警察.csv\", encoding = \"utf-8\") \n",
        "\n",
        "  dh[\"pol_d\"]=float(dis)\n",
        "  dh[\"pol_q\"]=\"\"\n",
        "  for i in range(len(dh)):\n",
        "      times = 0\n",
        "      origin_lat = str(dh[\"lat\"][i])\n",
        "      origin_long = str(dh[\"lng\"][i])\n",
        "      origin = (origin_lat, origin_long)\n",
        "      for j in range(len(df)):\n",
        "          destination_lat = str(df[\"lat\"][j])\n",
        "          destination_long = str(df[\"lng\"][j])\n",
        "          destination = (destination_lat, destination_long)\n",
        "          distance=geopy.distance.geodesic(origin, destination).km\n",
        "          try:\n",
        "              if distance <= float(dis):\n",
        "                  times = times + 1\n",
        "                  \n",
        "          except:\n",
        "              print(i,\"error\")\n",
        "      dh.at[i,\"pol_q\"] = times\n",
        "\n"
      ],
      "metadata": {
        "id": "tNPHA4VMFSXQ"
      },
      "execution_count": null,
      "outputs": []
    },
    {
      "cell_type": "code",
      "source": [
        "#================= 9.郵局 =============\n",
        "def post():\n",
        "\n",
        "  # 載入設施csv檔\n",
        "  df = pd.read_csv(\"data/郵局.csv\", encoding = \"utf-8\")\n",
        "\n",
        "  dh[\"post_d\"]=float(dis)\n",
        "  dh[\"post_q\"]=\"\"\n",
        "  for i in range(len(dh)):\n",
        "      times = 0\n",
        "      origin_lat = str(dh[\"lat\"][i])\n",
        "      origin_long = str(dh[\"lng\"][i])\n",
        "      origin = (origin_lat, origin_long)\n",
        "      for j in range(len(df)):\n",
        "          destination_lat = str(df[\"lat\"][j])\n",
        "          destination_long = str(df[\"lng\"][j])\n",
        "          destination = (destination_lat, destination_long)\n",
        "          distance=geopy.distance.geodesic(origin, destination).km\n",
        "          try:\n",
        "              if distance <= float(dis):\n",
        "                  times = times + 1\n",
        "                  \n",
        "          except:\n",
        "              print(i,\"error\")\n",
        "      dh.at[i,\"post_q\"] = times\n",
        "\n"
      ],
      "metadata": {
        "id": "8v4fbn0kD9Cc"
      },
      "execution_count": null,
      "outputs": []
    },
    {
      "cell_type": "code",
      "source": [
        "#================= 10.醫療 =============\n",
        "def hosp():\n",
        "\n",
        "  # 載入設施csv檔\n",
        "  df = pd.read_csv(\"data/醫療.csv\", encoding = \"utf-8\") \n",
        "\n",
        "  dh[\"hosp_d\"]=float(dis)\n",
        "  dh[\"hosp_q\"]=\"\"\n",
        "  for i in range(len(dh)):\n",
        "      times = 0\n",
        "      origin_lat = str(dh[\"lat\"][i])\n",
        "      origin_long = str(dh[\"lng\"][i])\n",
        "      origin = (origin_lat, origin_long)\n",
        "      for j in range(len(df)):\n",
        "          destination_lat = str(df[\"lat\"][j])\n",
        "          destination_long = str(df[\"lng\"][j])\n",
        "          destination = (destination_lat, destination_long)\n",
        "          distance=geopy.distance.geodesic(origin, destination).km\n",
        "          try:\n",
        "              if distance <= float(dis):\n",
        "                  times = times + 1\n",
        "                  \n",
        "          except:\n",
        "              print(i,\"error\")\n",
        "      dh.at[i,\"hosp_q\"] = times\n",
        "\n"
      ],
      "metadata": {
        "id": "zJsb3NHDFcAn"
      },
      "execution_count": null,
      "outputs": []
    },
    {
      "cell_type": "code",
      "source": [
        "#================= 11.金融 =============\n",
        "def fin():\n",
        "\n",
        "  # 載入設施csv檔\n",
        "  df = pd.read_csv(\"data/金融.csv\", encoding = \"utf-8\") \n",
        "\n",
        "  dh[\"fin_d\"]=float(dis)\n",
        "  dh[\"fin_q\"]=\"\"\n",
        "  for i in range(len(dh)):\n",
        "      times = 0\n",
        "      origin_lat = str(dh[\"lat\"][i])\n",
        "      origin_long = str(dh[\"lng\"][i])\n",
        "      origin = (origin_lat, origin_long)\n",
        "      for j in range(len(df)):\n",
        "          destination_lat = str(df[\"lat\"][j])\n",
        "          destination_long = str(df[\"lng\"][j])\n",
        "          destination = (destination_lat, destination_long)\n",
        "          distance=geopy.distance.geodesic(origin, destination).km\n",
        "          try:\n",
        "              if distance <= float(dis):\n",
        "                  times = times + 1\n",
        "                  \n",
        "          except:\n",
        "              print(i,\"error\")\n",
        "      dh.at[i,\"fin_q\"] = times\n",
        "\n"
      ],
      "metadata": {
        "id": "Ix9UptROGx63"
      },
      "execution_count": null,
      "outputs": []
    },
    {
      "cell_type": "code",
      "source": [
        "#主程式\n",
        "list1=(\"1公園\",\"2博物館\",\"3圖書館\",\"4捷運出口\",\"5學校\",\"6消防\",\"7禮儀\",\"8警察\",\"9郵局\",\"10醫療\",\"11金融\")\n",
        "\n",
        "print(list1)\n",
        "ch=input(\"請輸入要改變的設施:\")\n",
        "dis=input(\"請輸入要改變的距離(km):\")\n",
        "\n",
        "if ch == str(1):\n",
        "   park()\n",
        "if ch == str(2):\n",
        "   mu() \n",
        "if ch == str(3):\n",
        "  lib() \n",
        "if ch == str(4):\n",
        "   mrt() \n",
        "if ch == str(5):\n",
        "   edu() \n",
        "if ch == str(6):\n",
        "  fire() \n",
        "if ch == str(7):\n",
        "   dead() \n",
        "if ch == str(8):\n",
        "   pol() \n",
        "if ch == str(9):\n",
        "   post() \n",
        "if ch == str(10):\n",
        "   hosp() \n",
        "if ch == str(11):\n",
        "  fin() \n",
        "\n",
        "\n",
        "dh.to_csv(\"台北市房屋交易_最新版.csv\", encoding = \"utf-8\", index=False)"
      ],
      "metadata": {
        "id": "WELM8US2x15-"
      },
      "execution_count": null,
      "outputs": []
    }
  ]
}