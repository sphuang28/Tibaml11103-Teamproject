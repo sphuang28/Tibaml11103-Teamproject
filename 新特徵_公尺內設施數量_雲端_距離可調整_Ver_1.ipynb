{
  "nbformat": 4,
  "nbformat_minor": 0,
  "metadata": {
    "colab": {
      "provenance": [],
      "authorship_tag": "ABX9TyP58Wr/a+ADCbhEfSMyUUkX",
      "include_colab_link": true
    },
    "kernelspec": {
      "name": "python3",
      "display_name": "Python 3"
    },
    "language_info": {
      "name": "python"
    }
  },
  "cells": [
    {
      "cell_type": "markdown",
      "metadata": {
        "id": "view-in-github",
        "colab_type": "text"
      },
      "source": [
        "<a href=\"https://colab.research.google.com/github/sphuang28/Tibaml11103-Teamproject/blob/main/%E6%96%B0%E7%89%B9%E5%BE%B5_%E5%85%AC%E5%B0%BA%E5%85%A7%E8%A8%AD%E6%96%BD%E6%95%B8%E9%87%8F_%E9%9B%B2%E7%AB%AF_%E8%B7%9D%E9%9B%A2%E5%8F%AF%E8%AA%BF%E6%95%B4_Ver_1.ipynb\" target=\"_parent\"><img src=\"https://colab.research.google.com/assets/colab-badge.svg\" alt=\"Open In Colab\"/></a>"
      ]
    },
    {
      "cell_type": "code",
      "execution_count": null,
      "metadata": {
        "id": "BWp1IND9TUeJ",
        "colab": {
          "base_uri": "https://localhost:8080/",
          "height": 91
        },
        "outputId": "fba1f64e-c312-4164-f515-bd111d3dea89"
      },
      "outputs": [
        {
          "output_type": "execute_result",
          "data": {
            "text/plain": [
              "'\\n使用前注意事項:\\n以下兩個檔案須注意路徑與名稱\\n\\n台北市房屋交易+特徵表需放在固定資料夾\\n/content/drive/My Drive/Tibame_03期_第二組團專/訓練用資料/特徵檔案/\\n\\n1.主檔案 : 房屋交易表\\n2.設施座標表 : 各項設施座標\\n\\n3.各項中英對照\\npark_d  = 固定範圍(公園)\\npark_q  = 公園數量\\nmu_d   = 固定範圍(博物館)  \\nmu_q   = 博物館數量\\nlib_d   = 固定範圍(圖書館)   \\nlib_q   = 圖書館數量\\nmrt_d   = 固定範圍(捷運出口) \\nmrt_q   = 捷運出口數量\\nedu_d   = 固定範圍(學校) \\nedu_q   = 學校數量\\nfire_d  = 固定範圍(消防局) \\nfire_q  = 消防局數量\\ndeade_d  = 固定範圍(禮儀) \\ndeade_q  = 禮儀數量\\npol_d   = 固定範圍(警察局) \\npol_q   = 警察局數量\\npost_d  = 固定範圍(郵局) \\npost_q  = 郵局數量\\nhosp_d  = 固定範圍(醫療) \\nhosp_q  = 醫療數量\\nfin_d   = 固定範圍(金融) \\nfin_q   = 金融數量\\n\\n使用方式:\\n針對所需要修改設施選擇後再輸入距離即可(單位為公里)\\n\\n'"
            ],
            "application/vnd.google.colaboratory.intrinsic+json": {
              "type": "string"
            }
          },
          "metadata": {},
          "execution_count": 4
        }
      ],
      "source": [
        "'''\n",
        "使用前注意事項:\n",
        "以下兩個檔案須注意路徑與名稱\n",
        "\n",
        "台北市房屋交易+特徵表需放在固定資料夾\n",
        "/content/drive/My Drive/Tibame_03期_第二組團專/訓練用資料/特徵檔案/\n",
        "\n",
        "1.主檔案 : 房屋交易表\n",
        "2.設施座標表 : 各項設施座標\n",
        "\n",
        "使用方式:\n",
        "針對所需要修改設施選擇後再輸入距離即可(單位為公里)\n",
        "\n",
        "\n",
        "\n",
        "'''"
      ]
    },
    {
      "cell_type": "code",
      "source": [
        "import pandas as pd\n",
        "import geopy.distance\n",
        "from google.colab import files\n",
        "import os\n",
        "from google.colab import drive\n",
        "\n",
        "drive.mount('/content/drive')\n",
        "os.chdir('/content/drive/My Drive/Tibame_03期_第二組團專/訓練用資料/特徵檔案Ver2') #切換該目錄\n",
        "os.listdir()"
      ],
      "metadata": {
        "id": "t8x-RB1A7Y1s",
        "colab": {
          "base_uri": "https://localhost:8080/"
        },
        "outputId": "1e9fcbef-f0ca-478a-923a-77fde5e861b1"
      },
      "execution_count": null,
      "outputs": [
        {
          "output_type": "stream",
          "name": "stdout",
          "text": [
            "Drive already mounted at /content/drive; to attempt to forcibly remount, call drive.mount(\"/content/drive\", force_remount=True).\n"
          ]
        },
        {
          "output_type": "execute_result",
          "data": {
            "text/plain": [
              "['設施座標表.xlsx', '台北市房屋交易_最新版.csv']"
            ]
          },
          "metadata": {},
          "execution_count": 5
        }
      ]
    },
    {
      "cell_type": "code",
      "source": [
        "name = input(\"請輸入名字後兩字：\")\n",
        "ver = input(\"請輸入存檔版次：\")"
      ],
      "metadata": {
        "id": "zKbJhwLu2iQa"
      },
      "execution_count": null,
      "outputs": []
    },
    {
      "cell_type": "code",
      "source": [
        "# 載入房屋交易csv檔\n",
        "\n",
        "dh = pd.read_csv(\"/content/drive/My Drive/Tibame_03期_第二組團專/訓練用資料/特徵檔案/\"+str(name)+\"/台北市房屋交易_all_standard&Normal.csv\", encoding = \"utf-8\")\n",
        "pd.set_option('display.max_columns', 100)"
      ],
      "metadata": {
        "id": "MqbaUiKt3Oc-"
      },
      "execution_count": null,
      "outputs": []
    },
    {
      "cell_type": "code",
      "source": [
        "#================= 1.公園 =============\n",
        "def park():\n",
        "\n",
        "  # 載入設施csv檔\n",
        "  df = pd.read_excel(\"/content/drive/My Drive/Tibame_03期_第二組團專/訓練用資料/特徵檔案/設施座標表Ver2.xlsx\", sheet_name=\"公園\") \n",
        "  \n",
        "  dh[\"固定範圍(公園)\"]=int(k)/1000\n",
        "  dh[\"公園數量\"]=\"\"\n",
        "  for i in range(len(dh)):\n",
        "      times = 0\n",
        "      origin_lat = str(dh[\"緯度\"][i])\n",
        "      origin_long = str(dh[\"經度\"][i])\n",
        "      origin = (origin_lat, origin_long)\n",
        "      for j in range(len(df)):\n",
        "          destination_lat = str(df[\"lat\"][j])\n",
        "          destination_long = str(df[\"lng\"][j])\n",
        "          destination = (destination_lat, destination_long)\n",
        "          distance=geopy.distance.geodesic(origin, destination).km\n",
        "          try:\n",
        "              if distance <= int(k)/1000:\n",
        "                  times = times + 1\n",
        "                  \n",
        "          except:\n",
        "              print(i,\"error\")\n",
        "      dh.at[i,\"公園數量\"] = times\n",
        "  dh.to_csv(\"/content/drive/My Drive/Tibame_03期_第二組團專/訓練用資料/特徵檔案/\"+str(name)+\"/台北市房屋交易_公園\"+str(k)+\"公尺.csv\", encoding = \"utf-8\", index=False)"
      ],
      "metadata": {
        "id": "aM5x2J34Tbtq"
      },
      "execution_count": null,
      "outputs": []
    },
    {
      "cell_type": "code",
      "source": [
        "#================= 2.博物館 =============\n",
        "def mu():\n",
        "\n",
        "  # 載入設施csv檔\n",
        "  df = pd.read_excel(\"/content/drive/My Drive/Tibame_03期_第二組團專/訓練用資料/特徵檔案/設施座標表Ver2.xlsx\", sheet_name=\"博物館\")  \n",
        "\n",
        "  dh[\"固定範圍(博物館)\"]=int(k)/1000\n",
        "  dh[\"博物館數量\"]=\"\"\n",
        "  for i in range(len(dh)):\n",
        "      times = 0\n",
        "      origin_lat = str(dh[\"緯度\"][i])\n",
        "      origin_long = str(dh[\"經度\"][i])\n",
        "      origin = (origin_lat, origin_long)\n",
        "      for j in range(len(df)):\n",
        "          destination_lat = str(df[\"lat\"][j])\n",
        "          destination_long = str(df[\"lng\"][j])\n",
        "          destination = (destination_lat, destination_long)\n",
        "          distance=geopy.distance.geodesic(origin, destination).km\n",
        "          try:\n",
        "              if distance <= int(k)/1000:\n",
        "                  times = times + 1\n",
        "                  \n",
        "          except:\n",
        "              print(i,\"error\")\n",
        "      dh.at[i,\"博物館數量\"] = times\n",
        "  dh.to_csv(\"/content/drive/My Drive/Tibame_03期_第二組團專/訓練用資料/特徵檔案/\"+str(name)+\"/台北市房屋交易_博物館\"+str(k)+\"公尺.csv\", encoding = \"utf-8\", index=False)"
      ],
      "metadata": {
        "id": "odUgkCQATd75"
      },
      "execution_count": null,
      "outputs": []
    },
    {
      "cell_type": "code",
      "source": [
        "#================= 3.圖書館 =============\n",
        "def lib():\n",
        "\n",
        "  # 載入設施csv檔\n",
        "  df = pd.read_excel(\"/content/drive/My Drive/Tibame_03期_第二組團專/訓練用資料/特徵檔案/設施座標表Ver2.xlsx\", sheet_name=\"圖書館\")  \n",
        "\n",
        "  dh[\"固定範圍(圖書館)\"]=int(k)/1000\n",
        "  dh[\"圖書館數量\"]=\"\"\n",
        "  for i in range(len(dh)):\n",
        "      times = 0\n",
        "      origin_lat = str(dh[\"緯度\"][i])\n",
        "      origin_long = str(dh[\"經度\"][i])\n",
        "      origin = (origin_lat, origin_long)\n",
        "      for j in range(len(df)):\n",
        "          destination_lat = str(df[\"lat\"][j])\n",
        "          destination_long = str(df[\"lng\"][j])\n",
        "          destination = (destination_lat, destination_long)\n",
        "          distance=geopy.distance.geodesic(origin, destination).km\n",
        "          try:\n",
        "              if distance <= int(k)/1000:\n",
        "                  times = times + 1\n",
        "                  \n",
        "          except:\n",
        "              print(i,\"error\")\n",
        "      dh.at[i,\"圖書館數量\"] = times\n",
        "  dh.to_csv(\"/content/drive/My Drive/Tibame_03期_第二組團專/訓練用資料/特徵檔案/\"+str(name)+\"/台北市房屋交易_圖書館\"+str(k)+\"公尺.csv\", encoding = \"utf-8\", index=False)"
      ],
      "metadata": {
        "id": "p8oKcvwdTf7Z"
      },
      "execution_count": null,
      "outputs": []
    },
    {
      "cell_type": "code",
      "source": [
        "#================= 4.捷運出口數 =============\n",
        "def mrt():\n",
        "\n",
        "  # 載入設施csv檔\n",
        "  df = pd.read_excel(\"/content/drive/My Drive/Tibame_03期_第二組團專/訓練用資料/特徵檔案/設施座標表Ver2.xlsx\", sheet_name=\"捷運出口\")  \n",
        "\n",
        "  dh[\"固定範圍(捷運出口)\"]=int(k)/1000\n",
        "  dh[\"捷運出口數量\"]=\"\"\n",
        "  for i in range(len(dh)):\n",
        "      times = 0\n",
        "      origin_lat = str(dh[\"緯度\"][i])\n",
        "      origin_long = str(dh[\"經度\"][i])\n",
        "      origin = (origin_lat, origin_long)\n",
        "      for j in range(len(df)):\n",
        "          destination_lat = str(df[\"lat\"][j])\n",
        "          destination_long = str(df[\"lng\"][j])\n",
        "          destination = (destination_lat, destination_long)\n",
        "          distance=geopy.distance.geodesic(origin, destination).km\n",
        "          try:\n",
        "              if distance <= int(k)/1000:\n",
        "                  times = times + 1\n",
        "                  \n",
        "          except:\n",
        "              print(i,\"error\")\n",
        "      dh.at[i,\"捷運出口數量\"] = times\n",
        "  dh.to_csv(\"/content/drive/My Drive/Tibame_03期_第二組團專/訓練用資料/特徵檔案/\"+str(name)+\"/台北市房屋交易_捷運出口\"+str(k)+\"公尺.csv\", encoding = \"utf-8\", index=False)"
      ],
      "metadata": {
        "id": "baXXjszQThW6"
      },
      "execution_count": null,
      "outputs": []
    },
    {
      "cell_type": "code",
      "source": [
        "#================= 5.學校 =============\n",
        "def edu():\n",
        "\n",
        "  # 載入設施csv檔\n",
        "  df = pd.read_excel(\"/content/drive/My Drive/Tibame_03期_第二組團專/訓練用資料/特徵檔案/設施座標表Ver2.xlsx\", sheet_name=\"學校\") \n",
        "\n",
        "  dh[\"固定範圍(學校)\"]=int(k)/1000\n",
        "  dh[\"學校數量\"]=\"\"\n",
        "  for i in range(len(dh)):\n",
        "      times = 0\n",
        "      origin_lat = str(dh[\"緯度\"][i])\n",
        "      origin_long = str(dh[\"經度\"][i])\n",
        "      origin = (origin_lat, origin_long)\n",
        "      for j in range(len(df)):\n",
        "          destination_lat = str(df[\"lat\"][j])\n",
        "          destination_long = str(df[\"lng\"][j])\n",
        "          destination = (destination_lat, destination_long)\n",
        "          distance=geopy.distance.geodesic(origin, destination).km\n",
        "          try:\n",
        "              if distance <= int(k)/1000:\n",
        "                  times = times + 1\n",
        "                  \n",
        "          except:\n",
        "              print(i,\"error\")\n",
        "      dh.at[i,\"學校數量\"] = times\n",
        "  dh.to_csv(\"/content/drive/My Drive/Tibame_03期_第二組團專/訓練用資料/特徵檔案/\"+str(name)+\"/台北市房屋交易_學校\"+str(k)+\"公尺.csv\", encoding = \"utf-8\", index=False)  "
      ],
      "metadata": {
        "id": "RcS5MfNQTk7x"
      },
      "execution_count": null,
      "outputs": []
    },
    {
      "cell_type": "code",
      "source": [
        "#================= 6.消防 =============\n",
        "def fire():\n",
        "\n",
        "  # 載入設施csv檔\n",
        "  df = pd.read_excel(\"/content/drive/My Drive/Tibame_03期_第二組團專/訓練用資料/特徵檔案/設施座標表Ver2.xlsx\", sheet_name=\"消防\") \n",
        "\n",
        "  dh[\"固定範圍(消防局)\"]=int(k)/1000\n",
        "  dh[\"消防局數量\"]=\"\"\n",
        "  for i in range(len(dh)):\n",
        "      times = 0\n",
        "      origin_lat = str(dh[\"緯度\"][i])\n",
        "      origin_long = str(dh[\"經度\"][i])\n",
        "      origin = (origin_lat, origin_long)\n",
        "      for j in range(len(df)):\n",
        "          destination_lat = str(df[\"lat\"][j])\n",
        "          destination_long = str(df[\"lng\"][j])\n",
        "          destination = (destination_lat, destination_long)\n",
        "          distance=geopy.distance.geodesic(origin, destination).km\n",
        "          try:\n",
        "              if distance <= int(k)/1000:\n",
        "                  times = times + 1\n",
        "                  \n",
        "          except:\n",
        "              print(i,\"error\")\n",
        "      dh.at[i,\"消防局數量\"] = times\n",
        "  dh.to_csv(\"/content/drive/My Drive/Tibame_03期_第二組團專/訓練用資料/特徵檔案/\"+str(name)+\"/台北市房屋交易_消防局\"+str(k)+\"公尺.csv\", encoding = \"utf-8\", index=False)  "
      ],
      "metadata": {
        "id": "dPXO-CSSTnEi"
      },
      "execution_count": null,
      "outputs": []
    },
    {
      "cell_type": "code",
      "source": [
        "#================= 7.禮儀 =============\n",
        "def dead():\n",
        "\n",
        "  # 載入設施csv檔\n",
        "  df = pd.read_excel(\"/content/drive/My Drive/Tibame_03期_第二組團專/訓練用資料/特徵檔案/設施座標表Ver2.xlsx\", sheet_name=\"禮儀\")  \n",
        "\n",
        "  dh[\"固定範圍(禮儀)\"]=int(k)/1000\n",
        "  dh[\"禮儀數量\"]=\"\"\n",
        "  for i in range(len(dh)):\n",
        "      times = 0\n",
        "      origin_lat = str(dh[\"緯度\"][i])\n",
        "      origin_long = str(dh[\"經度\"][i])\n",
        "      origin = (origin_lat, origin_long)\n",
        "      for j in range(len(df)):\n",
        "          destination_lat = str(df[\"lat\"][j])\n",
        "          destination_long = str(df[\"lng\"][j])\n",
        "          destination = (destination_lat, destination_long)\n",
        "          distance=geopy.distance.geodesic(origin, destination).km\n",
        "          try:\n",
        "              if distance <= int(k)/1000:\n",
        "                  times = times + 1\n",
        "                  \n",
        "          except:\n",
        "              print(i,\"error\")\n",
        "      dh.at[i,\"禮儀數量\"] = times\n",
        "  dh.to_csv(\"/content/drive/My Drive/Tibame_03期_第二組團專/訓練用資料/特徵檔案/\"+str(name)+\"/台北市房屋交易_禮儀\"+str(k)+\"公尺.csv\", encoding = \"utf-8\", index=False)   "
      ],
      "metadata": {
        "id": "eq-egfXbTn5C"
      },
      "execution_count": null,
      "outputs": []
    },
    {
      "cell_type": "code",
      "source": [
        "#================= 8.警察 =============\n",
        "def pol():\n",
        "\n",
        "  # 載入設施csv檔\n",
        "  df = pd.read_excel(\"/content/drive/My Drive/Tibame_03期_第二組團專/訓練用資料/特徵檔案/設施座標表Ver2.xlsx\", sheet_name=\"警察\")  \n",
        "\n",
        "  dh[\"固定範圍(警察局)\"]=int(k)/1000\n",
        "  dh[\"警察局數量\"]=\"\"\n",
        "  for i in range(len(dh)):\n",
        "      times = 0\n",
        "      origin_lat = str(dh[\"緯度\"][i])\n",
        "      origin_long = str(dh[\"經度\"][i])\n",
        "      origin = (origin_lat, origin_long)\n",
        "      for j in range(len(df)):\n",
        "          destination_lat = str(df[\"lat\"][j])\n",
        "          destination_long = str(df[\"lng\"][j])\n",
        "          destination = (destination_lat, destination_long)\n",
        "          distance=geopy.distance.geodesic(origin, destination).km\n",
        "          try:\n",
        "              if distance <= int(k)/1000:\n",
        "                  times = times + 1\n",
        "                  \n",
        "          except:\n",
        "              print(i,\"error\")\n",
        "      dh.at[i,\"警察局數量\"] = times\n",
        "  dh.to_csv(\"/content/drive/My Drive/Tibame_03期_第二組團專/訓練用資料/特徵檔案/\"+str(name)+\"/台北市房屋交易_警察局\"+str(k)+\"公尺.csv\", encoding = \"utf-8\", index=False) "
      ],
      "metadata": {
        "id": "RO8F8C3HTtqJ"
      },
      "execution_count": null,
      "outputs": []
    },
    {
      "cell_type": "code",
      "source": [
        "#================= 9.郵局 =============\n",
        "def post():\n",
        "\n",
        "  # 載入設施csv檔\n",
        "  df = pd.read_excel(\"/content/drive/My Drive/Tibame_03期_第二組團專/訓練用資料/特徵檔案/設施座標表Ver2.xlsx\", sheet_name=\"郵局\") \n",
        "\n",
        "  dh[\"固定範圍(郵局)\"]=int(k)/1000\n",
        "  dh[\"郵局數量\"]=\"\"\n",
        "  for i in range(len(dh)):\n",
        "      times = 0\n",
        "      origin_lat = str(dh[\"緯度\"][i])\n",
        "      origin_long = str(dh[\"經度\"][i])\n",
        "      origin = (origin_lat, origin_long)\n",
        "      for j in range(len(df)):\n",
        "          destination_lat = str(df[\"lat\"][j])\n",
        "          destination_long = str(df[\"lng\"][j])\n",
        "          destination = (destination_lat, destination_long)\n",
        "          distance=geopy.distance.geodesic(origin, destination).km\n",
        "          try:\n",
        "              if distance <= int(k)/1000:\n",
        "                  times = times + 1\n",
        "                  \n",
        "          except:\n",
        "              print(i,\"error\")\n",
        "      dh.at[i,\"郵局數量\"] = times\n",
        "  dh.to_csv(\"/content/drive/My Drive/Tibame_03期_第二組團專/訓練用資料/特徵檔案/\"+str(name)+\"/台北市房屋交易_郵局\"+str(k)+\"公尺.csv\", encoding = \"utf-8\", index=False)"
      ],
      "metadata": {
        "id": "YMGYN4oHTvkL"
      },
      "execution_count": null,
      "outputs": []
    },
    {
      "cell_type": "code",
      "source": [
        "#================= 10.金融 =============\n",
        "def fin():\n",
        "\n",
        "  # 載入設施csv檔\n",
        "  df = pd.read_excel(\"/content/drive/My Drive/Tibame_03期_第二組團專/訓練用資料/特徵檔案/設施座標表Ver2.xlsx\", sheet_name=\"金融\")  \n",
        "\n",
        "  dh[\"固定範圍(金融)\"]=int(k)/1000\n",
        "  dh[\"金融數量\"]=\"\"\n",
        "  for i in range(len(dh)):\n",
        "      times = 0\n",
        "      origin_lat = str(dh[\"緯度\"][i])\n",
        "      origin_long = str(dh[\"經度\"][i])\n",
        "      origin = (origin_lat, origin_long)\n",
        "      for j in range(len(df)):\n",
        "          destination_lat = str(df[\"lat\"][j])\n",
        "          destination_long = str(df[\"lng\"][j])\n",
        "          destination = (destination_lat, destination_long)\n",
        "          distance=geopy.distance.geodesic(origin, destination).km\n",
        "          try:\n",
        "              if distance <= int(k)/1000:\n",
        "                  times = times + 1\n",
        "                  \n",
        "          except:\n",
        "              print(i,\"error\")\n",
        "      dh.at[i,\"金融數量\"] = times\n",
        "  dh.to_csv(\"/content/drive/My Drive/Tibame_03期_第二組團專/訓練用資料/特徵檔案/\"+str(name)+\"/台北市房屋交易_金融\"+str(k)+\"公尺.csv\", encoding = \"utf-8\", index=False)"
      ],
      "metadata": {
        "id": "ZtKFIwmLTwWS"
      },
      "execution_count": null,
      "outputs": []
    },
    {
      "cell_type": "code",
      "source": [
        "#================= 10.金融 =============\n",
        "def fin():\n",
        "\n",
        "  # 載入設施csv檔\n",
        "  df = pd.read_excel(\"/content/drive/My Drive/Tibame_03期_第二組團專/訓練用資料/特徵檔案/設施座標表Ver2.xlsx\", sheet_name=\"金融\")  \n",
        "\n",
        "  dh[\"固定範圍(金融)\"]=int(k)/1000\n",
        "  dh[\"金融數量\"]=\"\"\n",
        "  for i in range(len(dh)):\n",
        "      times = 0\n",
        "      origin_lat = str(dh[\"緯度\"][i])\n",
        "      origin_long = str(dh[\"經度\"][i])\n",
        "      origin = (origin_lat, origin_long)\n",
        "      for j in range(len(df)):\n",
        "          destination_lat = str(df[\"lat\"][j])\n",
        "          destination_long = str(df[\"lng\"][j])\n",
        "          destination = (destination_lat, destination_long)\n",
        "          distance=geopy.distance.geodesic(origin, destination).km\n",
        "          try:\n",
        "              if distance <= int(k)/1000:\n",
        "                  times = times + 1\n",
        "                  \n",
        "          except:\n",
        "              print(i,\"error\")\n",
        "      dh.at[i,\"金融數量\"] = times\n",
        "  dh.to_csv(\"/content/drive/My Drive/Tibame_03期_第二組團專/訓練用資料/特徵檔案/\"+str(name)+\"/台北市房屋交易_金融\"+str(k)+\"公尺.csv\", encoding = \"utf-8\", index=False)"
      ],
      "metadata": {
        "id": "2Knc876-TyWK"
      },
      "execution_count": null,
      "outputs": []
    },
    {
      "cell_type": "code",
      "source": [
        "#================= 11.醫療醫院 =============\n",
        "def hosp():\n",
        "\n",
        "  # 載入設施csv檔\n",
        "  df = pd.read_excel(\"/content/drive/My Drive/Tibame_03期_第二組團專/訓練用資料/特徵檔案/設施座標表Ver2.xlsx\", sheet_name=\"醫療醫院\")  \n",
        "\n",
        "  dh[\"固定範圍(醫院)\"]=int(k)/1000\n",
        "  dh[\"醫院數量\"]=\"\"\n",
        "  for i in range(len(dh)):\n",
        "      times = 0\n",
        "      origin_lat = str(dh[\"緯度\"][i])\n",
        "      origin_long = str(dh[\"經度\"][i])\n",
        "      origin = (origin_lat, origin_long)\n",
        "      for j in range(len(df)):\n",
        "          destination_lat = str(df[\"lat\"][j])\n",
        "          destination_long = str(df[\"lng\"][j])\n",
        "          destination = (destination_lat, destination_long)\n",
        "          distance=geopy.distance.geodesic(origin, destination).km\n",
        "          try:\n",
        "              if distance <= int(k)/1000:\n",
        "                  times = times + 1\n",
        "                  \n",
        "          except:\n",
        "              print(i,\"error\")\n",
        "      dh.at[i,\"醫院數量\"] = times\n",
        "  dh.to_csv(\"/content/drive/My Drive/Tibame_03期_第二組團專/訓練用資料/特徵檔案/\"+str(name)+\"/台北市房屋交易_醫院\"+str(k)+\"公尺.csv\", encoding = \"utf-8\", index=False) "
      ],
      "metadata": {
        "id": "VHMLRGx76wGk"
      },
      "execution_count": null,
      "outputs": []
    },
    {
      "cell_type": "code",
      "source": [
        "#================= 12.醫療診所 =============\n",
        "def clinic():\n",
        "\n",
        "  # 載入設施csv檔\n",
        "  df = pd.read_excel(\"/content/drive/My Drive/Tibame_03期_第二組團專/訓練用資料/特徵檔案/設施座標表Ver2.xlsx\", sheet_name=\"醫療診所\")  \n",
        "\n",
        "  dh[\"固定範圍(診所)\"]=int(k)/1000\n",
        "  dh[\"診所數量\"]=\"\"\n",
        "  for i in range(len(dh)):\n",
        "      times = 0\n",
        "      origin_lat = str(dh[\"緯度\"][i])\n",
        "      origin_long = str(dh[\"經度\"][i])\n",
        "      origin = (origin_lat, origin_long)\n",
        "      for j in range(len(df)):\n",
        "          destination_lat = str(df[\"lat\"][j])\n",
        "          destination_long = str(df[\"lng\"][j])\n",
        "          destination = (destination_lat, destination_long)\n",
        "          distance=geopy.distance.geodesic(origin, destination).km\n",
        "          try:\n",
        "              if distance <= int(k)/1000:\n",
        "                  times = times + 1\n",
        "                  \n",
        "          except:\n",
        "              print(i,\"error\")\n",
        "      dh.at[i,\"診所數量\"] = times\n",
        "  dh.to_csv(\"/content/drive/My Drive/Tibame_03期_第二組團專/訓練用資料/特徵檔案/\"+str(name)+\"/台北市房屋交易_診所\"+str(k)+\"公尺.csv\", encoding = \"utf-8\", index=False) "
      ],
      "metadata": {
        "id": "2ozKfyAV78OO"
      },
      "execution_count": null,
      "outputs": []
    },
    {
      "cell_type": "code",
      "source": [
        "#================= 13.醫療藥局 =============\n",
        "def pharmacy():\n",
        "\n",
        "  # 載入設施csv檔\n",
        "  df = pd.read_excel(\"/content/drive/My Drive/Tibame_03期_第二組團專/訓練用資料/特徵檔案/設施座標表Ver2.xlsx\", sheet_name=\"醫療藥局\")  \n",
        "\n",
        "  dh[\"固定範圍(藥局)\"]=int(k)/1000\n",
        "  dh[\"藥局數量\"]=\"\"\n",
        "  for i in range(len(dh)):\n",
        "      times = 0\n",
        "      origin_lat = str(dh[\"緯度\"][i])\n",
        "      origin_long = str(dh[\"經度\"][i])\n",
        "      origin = (origin_lat, origin_long)\n",
        "      for j in range(len(df)):\n",
        "          destination_lat = str(df[\"lat\"][j])\n",
        "          destination_long = str(df[\"lng\"][j])\n",
        "          destination = (destination_lat, destination_long)\n",
        "          distance=geopy.distance.geodesic(origin, destination).km\n",
        "          try:\n",
        "              if distance <= int(k)/1000:\n",
        "                  times = times + 1\n",
        "                  \n",
        "          except:\n",
        "              print(i,\"error\")\n",
        "      dh.at[i,\"藥局數量\"] = times\n",
        "  dh.to_csv(\"/content/drive/My Drive/Tibame_03期_第二組團專/訓練用資料/特徵檔案/\"+str(name)+\"/台北市房屋交易_藥局\"+str(k)+\"公尺.csv\", encoding = \"utf-8\", index=False) "
      ],
      "metadata": {
        "id": "-c7ADpTw8KJc"
      },
      "execution_count": null,
      "outputs": []
    },
    {
      "cell_type": "code",
      "source": [
        "#主程式\n",
        "list1=(\"1公園\",\"2博物館\",\"3圖書館\",\"4捷運出口\",\"5學校\",\"6消防\",\"7禮儀\",\"8警察\",\"9郵局\",\"10金融\",\"11醫院\",\"12診所\",\"13藥局\")\n",
        "\n",
        "print(list1)\n",
        "ch=input(\"請輸入要改變的設施:\")\n",
        "fi=input(\"請輸入初始距離(m):\")\n",
        "la=input(\"請輸入最遠距離(m):\")\n",
        "to=input(\"請輸入間隔距離(m)\")\n",
        "\n",
        "\n",
        "\n",
        "if ch == str(1):   \n",
        "  for k in range(int(fi),int(la),int(to)):\n",
        "    park()    \n",
        "if ch == str(2):\n",
        "  for k in range(int(fi),int(la),int(to)):\n",
        "   mu() \n",
        "if ch == str(3):\n",
        "  for k in range(int(fi),int(la),int(to)):\n",
        "   lib() \n",
        "if ch == str(4):\n",
        "  for k in range(int(fi),int(la),int(to)):\n",
        "   mrt() \n",
        "if ch == str(5):\n",
        "  for k in range(int(fi),int(la),int(to)):\n",
        "   edu() \n",
        "if ch == str(6):\n",
        "  for k in range(int(fi),int(la),int(to)):\n",
        "   fire() \n",
        "if ch == str(7):\n",
        "  for k in range(int(fi),int(la),int(to)):\n",
        "   dead() \n",
        "if ch == str(8):\n",
        "  for k in range(int(fi),int(la),int(to)):\n",
        "   pol() \n",
        "if ch == str(9):\n",
        "  for k in range(int(fi),int(la),int(to)):\n",
        "   post()\n",
        "if ch == str(10):\n",
        "  for k in range(int(fi),int(la),int(to)):\n",
        "   fin() \n",
        "if ch == str(11):\n",
        "  for k in range(int(fi),int(la),int(to)):\n",
        "   hosp() \n",
        "if ch == str(12):\n",
        "  for k in range(int(fi),int(la),int(to)):\n",
        "   clinic() \n",
        "if ch == str(12):\n",
        "  for k in range(int(fi),int(la),int(to)):\n",
        "   pharmacy() \n",
        "\n",
        "# dh.to_csv(\"台北市房屋交易_最新版.csv\", encoding = \"utf-8\", index=False)"
      ],
      "metadata": {
        "id": "LQBfeYPvT3es",
        "colab": {
          "base_uri": "https://localhost:8080/"
        },
        "outputId": "c99cadbe-3d16-4b64-b4ad-1275e224ac8b"
      },
      "execution_count": null,
      "outputs": [
        {
          "name": "stdout",
          "output_type": "stream",
          "text": [
            "('1公園', '2博物館', '3圖書館', '4捷運出口', '5學校', '6消防', '7禮儀', '8警察', '9郵局', '10醫療', '11金融')\n",
            "請輸入要改變的設施:1\n",
            "請輸入初始距離(m):2000\n",
            "請輸入最遠距離(m):3000\n",
            "請輸入間隔距離(m)500\n"
          ]
        }
      ]
    }
  ]
}