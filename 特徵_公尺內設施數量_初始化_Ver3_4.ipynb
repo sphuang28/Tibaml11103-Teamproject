{
  "cells": [
    {
      "cell_type": "markdown",
      "metadata": {
        "id": "view-in-github",
        "colab_type": "text"
      },
      "source": [
        "<a href=\"https://colab.research.google.com/github/sphuang28/Tibaml11103-Teamproject/blob/main/%E7%89%B9%E5%BE%B5_%E5%85%AC%E5%B0%BA%E5%85%A7%E8%A8%AD%E6%96%BD%E6%95%B8%E9%87%8F_%E5%88%9D%E5%A7%8B%E5%8C%96_Ver3_4.ipynb\" target=\"_parent\"><img src=\"https://colab.research.google.com/assets/colab-badge.svg\" alt=\"Open In Colab\"/></a>"
      ]
    },
    {
      "cell_type": "code",
      "execution_count": 1,
      "metadata": {
        "colab": {
          "base_uri": "https://localhost:8080/",
          "height": 91
        },
        "id": "BWp1IND9TUeJ",
        "outputId": "d10aba44-e572-4cdb-e75d-6a525311081b"
      },
      "outputs": [
        {
          "output_type": "execute_result",
          "data": {
            "text/plain": [
              "'\\n使用前注意事項:\\n以下兩個檔案須注意路徑與名稱\\n1.主檔案 : 房屋交易表\\n\\n2.設施座標表 : 各項設施座標\\n\\n3.各項中英對照\\npark_d  = 固定範圍(公園)\\npark_q  = 公園數量\\nmu_d   = 固定範圍(博物館)  \\nmu_q   = 博物館數量\\nlib_d   = 固定範圍(圖書館)   \\nlib_q   = 圖書館數量\\nmrt_d   = 固定範圍(捷運出口) \\nmrt_q   = 捷運出口數量\\nedu_d   = 固定範圍(學校) \\nedu_q   = 學校數量\\nfire_d  = 固定範圍(消防局) \\nfire_q  = 消防局數量\\ndeade_d  = 固定範圍(禮儀) \\ndeade_q  = 禮儀數量\\npol_d   = 固定範圍(警察局) \\npol_q   = 警察局數量\\npost_d  = 固定範圍(郵局) \\npost_q  = 郵局數量\\nhosp_d  = 固定範圍(醫療) \\nhosp_q  = 醫療數量\\nfin_d   = 固定範圍(金融) \\nfin_q   = 金融數量\\n\\n使用方式:\\n針對所需要修改設施選擇後再輸入距離即可(單位為公里)\\n\\n'"
            ],
            "application/vnd.google.colaboratory.intrinsic+json": {
              "type": "string"
            }
          },
          "metadata": {},
          "execution_count": 1
        }
      ],
      "source": [
        "'''\n",
        "使用前注意事項:\n",
        "以下兩個檔案須注意路徑與名稱\n",
        "1.主檔案 : 房屋交易表\n",
        "\n",
        "2.設施座標表 : 各項設施座標\n",
        "\n",
        "3.各項中英對照\n",
        "park_d  = 固定範圍(公園)\n",
        "park_q  = 公園數量\n",
        "mu_d   = 固定範圍(博物館)  \n",
        "mu_q   = 博物館數量\n",
        "lib_d   = 固定範圍(圖書館)   \n",
        "lib_q   = 圖書館數量\n",
        "mrt_d   = 固定範圍(捷運出口) \n",
        "mrt_q   = 捷運出口數量\n",
        "edu_d   = 固定範圍(學校) \n",
        "edu_q   = 學校數量\n",
        "fire_d  = 固定範圍(消防局) \n",
        "fire_q  = 消防局數量\n",
        "deade_d  = 固定範圍(禮儀) \n",
        "deade_q  = 禮儀數量\n",
        "pol_d   = 固定範圍(警察局) \n",
        "pol_q   = 警察局數量\n",
        "post_d  = 固定範圍(郵局) \n",
        "post_q  = 郵局數量\n",
        "hosp_d  = 固定範圍(醫療) \n",
        "hosp_q  = 醫療數量\n",
        "fin_d   = 固定範圍(金融) \n",
        "fin_q   = 金融數量\n",
        "\n",
        "使用方式:\n",
        "針對所需要修改設施選擇後再輸入距離即可(單位為公里)\n",
        "\n",
        "'''\n"
      ]
    },
    {
      "cell_type": "code",
      "execution_count": 2,
      "metadata": {
        "id": "t8x-RB1A7Y1s",
        "colab": {
          "base_uri": "https://localhost:8080/"
        },
        "outputId": "ed933ece-58f9-4cb7-a7a2-5f40bf55cb6d"
      },
      "outputs": [
        {
          "output_type": "stream",
          "name": "stderr",
          "text": [
            "/usr/local/lib/python3.7/dist-packages/IPython/core/interactiveshell.py:3326: DtypeWarning: Columns (10) have mixed types.Specify dtype option on import or set low_memory=False.\n",
            "  exec(code_obj, self.user_global_ns, self.user_ns)\n"
          ]
        }
      ],
      "source": [
        "import pandas as pd\n",
        "import geopy.distance\n",
        "from google.colab import files\n",
        "\n",
        "# 載入房屋交易csv檔\n",
        "\n",
        "dh = pd.read_csv(\"data/台北市房屋交易.csv\", encoding = \"utf-8\")\n",
        "pd.set_option('display.max_columns', 100)\n"
      ]
    },
    {
      "cell_type": "code",
      "execution_count": 3,
      "metadata": {
        "id": "aM5x2J34Tbtq"
      },
      "outputs": [],
      "source": [
        "#================= 1.公園 =============\n",
        "def park():\n",
        "\n",
        "  # 載入設施csv檔\n",
        "  df = pd.read_excel(\"data/設施座標表.xlsx\", sheet_name=\"公園\") \n",
        "  \n",
        "  dh[\"固定範圍(公園)\"]=int(pa)/1000\n",
        "  dh[\"公園數量\"]=\"\"\n",
        "  for i in range(len(dh)):\n",
        "      times = 0\n",
        "      origin_lat = str(dh[\"緯度\"][i])\n",
        "      origin_long = str(dh[\"經度\"][i])\n",
        "      origin = (origin_lat, origin_long)\n",
        "      for j in range(len(df)):\n",
        "          destination_lat = str(df[\"lat\"][j])\n",
        "          destination_long = str(df[\"lng\"][j])\n",
        "          destination = (destination_lat, destination_long)\n",
        "          distance=geopy.distance.geodesic(origin, destination).km\n",
        "          try:\n",
        "              if distance <= int(pa)/1000:\n",
        "                  times = times + 1\n",
        "                  \n",
        "          except:\n",
        "              print(i,\"error\")\n",
        "      dh.at[i,\"公園數量\"] = times"
      ]
    },
    {
      "cell_type": "code",
      "execution_count": 4,
      "metadata": {
        "id": "eTZ9JlUH08Cf"
      },
      "outputs": [],
      "source": [
        "#park_d=固定範圍(公園)  park_q=公園數量"
      ]
    },
    {
      "cell_type": "code",
      "execution_count": 5,
      "metadata": {
        "id": "odUgkCQATd75"
      },
      "outputs": [],
      "source": [
        "#================= 2.博物館 =============\n",
        "def mu():\n",
        "\n",
        "  # 載入設施csv檔\n",
        "  df = pd.read_excel(\"data/設施座標表.xlsx\", sheet_name=\"博物館\")  \n",
        "\n",
        "  dh[\"固定範圍(博物館)\"]=int(m)/1000\n",
        "  dh[\"博物館數量\"]=\"\"\n",
        "  for i in range(len(dh)):\n",
        "      times = 0\n",
        "      origin_lat = str(dh[\"緯度\"][i])\n",
        "      origin_long = str(dh[\"經度\"][i])\n",
        "      origin = (origin_lat, origin_long)\n",
        "      for j in range(len(df)):\n",
        "          destination_lat = str(df[\"lat\"][j])\n",
        "          destination_long = str(df[\"lng\"][j])\n",
        "          destination = (destination_lat, destination_long)\n",
        "          distance=geopy.distance.geodesic(origin, destination).km\n",
        "          try:\n",
        "              if distance <= int(m)/1000:\n",
        "                  times = times + 1\n",
        "                  \n",
        "          except:\n",
        "              print(i,\"error\")\n",
        "      dh.at[i,\"博物館數量\"] = times"
      ]
    },
    {
      "cell_type": "code",
      "execution_count": 6,
      "metadata": {
        "id": "aBaX6Xnr1b9A"
      },
      "outputs": [],
      "source": [
        "#mu_d=固定範圍(博物館) mu_q=博物館數量"
      ]
    },
    {
      "cell_type": "code",
      "execution_count": 7,
      "metadata": {
        "id": "p8oKcvwdTf7Z"
      },
      "outputs": [],
      "source": [
        "#================= 3.圖書館 =============\n",
        "def lib():\n",
        "\n",
        "  # 載入設施csv檔\n",
        "  df = pd.read_excel(\"data/設施座標表.xlsx\", sheet_name=\"圖書館\")  \n",
        "\n",
        "  dh[\"固定範圍(圖書館)\"]=int(li)/1000\n",
        "  dh[\"圖書館數量\"]=\"\"\n",
        "  for i in range(len(dh)):\n",
        "      times = 0\n",
        "      origin_lat = str(dh[\"緯度\"][i])\n",
        "      origin_long = str(dh[\"經度\"][i])\n",
        "      origin = (origin_lat, origin_long)\n",
        "      for j in range(len(df)):\n",
        "          destination_lat = str(df[\"lat\"][j])\n",
        "          destination_long = str(df[\"lng\"][j])\n",
        "          destination = (destination_lat, destination_long)\n",
        "          distance=geopy.distance.geodesic(origin, destination).km\n",
        "          try:\n",
        "              if distance <= int(li)/1000:\n",
        "                  times = times + 1\n",
        "                  \n",
        "          except:\n",
        "              print(i,\"error\")\n",
        "      dh.at[i,\"圖書館數量\"] = times"
      ]
    },
    {
      "cell_type": "code",
      "execution_count": 8,
      "metadata": {
        "id": "T7VMm-Cm1hl3"
      },
      "outputs": [],
      "source": [
        "#lib_d=固定範圍(圖書館) lib_q=圖書館數量"
      ]
    },
    {
      "cell_type": "code",
      "execution_count": 9,
      "metadata": {
        "id": "baXXjszQThW6"
      },
      "outputs": [],
      "source": [
        "#================= 4.捷運出口數 =============\n",
        "def mrt():\n",
        "\n",
        "  # 載入設施csv檔\n",
        "  df = pd.read_excel(\"data/設施座標表.xlsx\", sheet_name=\"捷運出口\")  \n",
        "\n",
        "  dh[\"固定範圍(捷運出口)\"]=int(mr)/1000\n",
        "  dh[\"捷運出口數量\"]=\"\"\n",
        "  for i in range(len(dh)):\n",
        "      times = 0\n",
        "      origin_lat = str(dh[\"緯度\"][i])\n",
        "      origin_long = str(dh[\"經度\"][i])\n",
        "      origin = (origin_lat, origin_long)\n",
        "      for j in range(len(df)):\n",
        "          destination_lat = str(df[\"lat\"][j])\n",
        "          destination_long = str(df[\"lng\"][j])\n",
        "          destination = (destination_lat, destination_long)\n",
        "          distance=geopy.distance.geodesic(origin, destination).km\n",
        "          try:\n",
        "              if distance <= int(mr)/1000:\n",
        "                  times = times + 1\n",
        "                  \n",
        "          except:\n",
        "              print(i,\"error\")\n",
        "      dh.at[i,\"捷運出口數量\"] = times"
      ]
    },
    {
      "cell_type": "code",
      "execution_count": 10,
      "metadata": {
        "id": "I8Jqa1Ic1laP"
      },
      "outputs": [],
      "source": [
        "#mrt_d=固定範圍(捷運出口) mrt_q=捷運出口數量"
      ]
    },
    {
      "cell_type": "code",
      "execution_count": 11,
      "metadata": {
        "id": "RcS5MfNQTk7x"
      },
      "outputs": [],
      "source": [
        "#================= 5.學校 =============\n",
        "def edu():\n",
        "\n",
        "  # 載入設施csv檔\n",
        "  df = pd.read_excel(\"data/設施座標表.xlsx\", sheet_name=\"學校\") \n",
        "\n",
        "  dh[\"固定範圍(學校)\"]=int(ed)/1000\n",
        "  dh[\"學校數量\"]=\"\"\n",
        "  for i in range(len(dh)):\n",
        "      times = 0\n",
        "      origin_lat = str(dh[\"緯度\"][i])\n",
        "      origin_long = str(dh[\"經度\"][i])\n",
        "      origin = (origin_lat, origin_long)\n",
        "      for j in range(len(df)):\n",
        "          destination_lat = str(df[\"lat\"][j])\n",
        "          destination_long = str(df[\"lng\"][j])\n",
        "          destination = (destination_lat, destination_long)\n",
        "          distance=geopy.distance.geodesic(origin, destination).km\n",
        "          try:\n",
        "              if distance <= int(ed)/1000:\n",
        "                  times = times + 1\n",
        "                  \n",
        "          except:\n",
        "              print(i,\"error\")\n",
        "      dh.at[i,\"學校數量\"] = times    "
      ]
    },
    {
      "cell_type": "code",
      "execution_count": 12,
      "metadata": {
        "id": "N6GCmxX51poQ"
      },
      "outputs": [],
      "source": [
        "#edu_d=固定範圍(學校) edu_q=學校數量"
      ]
    },
    {
      "cell_type": "code",
      "execution_count": 13,
      "metadata": {
        "id": "dPXO-CSSTnEi"
      },
      "outputs": [],
      "source": [
        "#================= 6.消防 =============\n",
        "def fire():\n",
        "\n",
        "  # 載入設施csv檔\n",
        "  df = pd.read_excel(\"data/設施座標表.xlsx\", sheet_name=\"消防\") \n",
        "\n",
        "  dh[\"固定範圍(消防局)\"]=int(fir)/1000\n",
        "  dh[\"消防局數量\"]=\"\"\n",
        "  for i in range(len(dh)):\n",
        "      times = 0\n",
        "      origin_lat = str(dh[\"緯度\"][i])\n",
        "      origin_long = str(dh[\"經度\"][i])\n",
        "      origin = (origin_lat, origin_long)\n",
        "      for j in range(len(df)):\n",
        "          destination_lat = str(df[\"lat\"][j])\n",
        "          destination_long = str(df[\"lng\"][j])\n",
        "          destination = (destination_lat, destination_long)\n",
        "          distance=geopy.distance.geodesic(origin, destination).km\n",
        "          try:\n",
        "              if distance <= int(fir)/1000:\n",
        "                  times = times + 1\n",
        "                  \n",
        "          except:\n",
        "              print(i,\"error\")\n",
        "      dh.at[i,\"消防局數量\"] = times\n"
      ]
    },
    {
      "cell_type": "code",
      "execution_count": 14,
      "metadata": {
        "id": "M5HDQyHE19ka"
      },
      "outputs": [],
      "source": [
        "#fire_d=固定範圍(消防局) fire_q=消防局數量"
      ]
    },
    {
      "cell_type": "code",
      "execution_count": 15,
      "metadata": {
        "id": "eq-egfXbTn5C"
      },
      "outputs": [],
      "source": [
        "#================= 7.禮儀 =============\n",
        "def dead():\n",
        "\n",
        "  # 載入設施csv檔\n",
        "  df = pd.read_excel(\"data/設施座標表.xlsx\", sheet_name=\"禮儀\")  \n",
        "\n",
        "  dh[\"固定範圍(禮儀)\"]=int(de)/1000\n",
        "  dh[\"禮儀數量\"]=\"\"\n",
        "  for i in range(len(dh)):\n",
        "      times = 0\n",
        "      origin_lat = str(dh[\"緯度\"][i])\n",
        "      origin_long = str(dh[\"經度\"][i])\n",
        "      origin = (origin_lat, origin_long)\n",
        "      for j in range(len(df)):\n",
        "          destination_lat = str(df[\"lat\"][j])\n",
        "          destination_long = str(df[\"lng\"][j])\n",
        "          destination = (destination_lat, destination_long)\n",
        "          distance=geopy.distance.geodesic(origin, destination).km\n",
        "          try:\n",
        "              if distance <= int(de)/1000:\n",
        "                  times = times + 1\n",
        "                  \n",
        "          except:\n",
        "              print(i,\"error\")\n",
        "      dh.at[i,\"禮儀數量\"] = times     "
      ]
    },
    {
      "cell_type": "code",
      "execution_count": 16,
      "metadata": {
        "id": "nQfTDf9g2BNH"
      },
      "outputs": [],
      "source": [
        "#deade_d=固定範圍(禮儀) deade_q=禮儀數量"
      ]
    },
    {
      "cell_type": "code",
      "execution_count": 17,
      "metadata": {
        "id": "RO8F8C3HTtqJ"
      },
      "outputs": [],
      "source": [
        "#================= 8.警察 =============\n",
        "def pol():\n",
        "\n",
        "  # 載入設施csv檔\n",
        "  df = pd.read_excel(\"data/設施座標表.xlsx\", sheet_name=\"警察\")  \n",
        "\n",
        "  dh[\"固定範圍(警察局)\"]=int(po)/1000\n",
        "  dh[\"警察局數量\"]=\"\"\n",
        "  for i in range(len(dh)):\n",
        "      times = 0\n",
        "      origin_lat = str(dh[\"緯度\"][i])\n",
        "      origin_long = str(dh[\"經度\"][i])\n",
        "      origin = (origin_lat, origin_long)\n",
        "      for j in range(len(df)):\n",
        "          destination_lat = str(df[\"lat\"][j])\n",
        "          destination_long = str(df[\"lng\"][j])\n",
        "          destination = (destination_lat, destination_long)\n",
        "          distance=geopy.distance.geodesic(origin, destination).km\n",
        "          try:\n",
        "              if distance <= int(po)/1000:\n",
        "                  times = times + 1\n",
        "                  \n",
        "          except:\n",
        "              print(i,\"error\")\n",
        "      dh.at[i,\"警察局數量\"] = times"
      ]
    },
    {
      "cell_type": "code",
      "execution_count": 18,
      "metadata": {
        "id": "tilwn_h02Ejo"
      },
      "outputs": [],
      "source": [
        "#pol_d=固定範圍(警察局) pol_q=警察局數量"
      ]
    },
    {
      "cell_type": "code",
      "execution_count": 19,
      "metadata": {
        "id": "YMGYN4oHTvkL"
      },
      "outputs": [],
      "source": [
        "#================= 9.郵局 =============\n",
        "def post():\n",
        "\n",
        "  # 載入設施csv檔\n",
        "  df = pd.read_excel(\"data/設施座標表.xlsx\", sheet_name=\"郵局\") \n",
        "\n",
        "  dh[\"固定範圍(郵局)\"]=int(pos)/1000\n",
        "  dh[\"郵局數量\"]=\"\"\n",
        "  for i in range(len(dh)):\n",
        "      times = 0\n",
        "      origin_lat = str(dh[\"緯度\"][i])\n",
        "      origin_long = str(dh[\"經度\"][i])\n",
        "      origin = (origin_lat, origin_long)\n",
        "      for j in range(len(df)):\n",
        "          destination_lat = str(df[\"lat\"][j])\n",
        "          destination_long = str(df[\"lng\"][j])\n",
        "          destination = (destination_lat, destination_long)\n",
        "          distance=geopy.distance.geodesic(origin, destination).km\n",
        "          try:\n",
        "              if distance <= int(pos)/1000:\n",
        "                  times = times + 1\n",
        "                  \n",
        "          except:\n",
        "              print(i,\"error\")\n",
        "      dh.at[i,\"郵局數量\"] = times\n"
      ]
    },
    {
      "cell_type": "code",
      "execution_count": 20,
      "metadata": {
        "id": "M5S3vDTI2Hiw"
      },
      "outputs": [],
      "source": [
        "#post_d=固定範圍(郵局) post_q=郵局數量"
      ]
    },
    {
      "cell_type": "code",
      "execution_count": 21,
      "metadata": {
        "id": "ZtKFIwmLTwWS"
      },
      "outputs": [],
      "source": [
        "#================= 10.醫療 =============\n",
        "def hosp():\n",
        "\n",
        "  # 載入設施csv檔\n",
        "  df = pd.read_excel(\"data/設施座標表.xlsx\", sheet_name=\"醫療\")  \n",
        "\n",
        "  dh[\"固定範圍(醫療)\"]=int(hos)/1000\n",
        "  dh[\"醫療數量\"]=\"\"\n",
        "  for i in range(len(dh)):\n",
        "      times = 0\n",
        "      origin_lat = str(dh[\"緯度\"][i])\n",
        "      origin_long = str(dh[\"經度\"][i])\n",
        "      origin = (origin_lat, origin_long)\n",
        "      for j in range(len(df)):\n",
        "          destination_lat = str(df[\"lat\"][j])\n",
        "          destination_long = str(df[\"lng\"][j])\n",
        "          destination = (destination_lat, destination_long)\n",
        "          distance=geopy.distance.geodesic(origin, destination).km\n",
        "          try:\n",
        "              if distance <= int(hos)/1000:\n",
        "                  times = times + 1\n",
        "                  \n",
        "          except:\n",
        "              print(i,\"error\")\n",
        "      dh.at[i,\"醫療數量\"] = times"
      ]
    },
    {
      "cell_type": "code",
      "execution_count": 22,
      "metadata": {
        "id": "pEt-lY9Y2KXw"
      },
      "outputs": [],
      "source": [
        "#hosp_d=固定範圍(醫療) hosp_q=醫療數量"
      ]
    },
    {
      "cell_type": "code",
      "execution_count": 23,
      "metadata": {
        "id": "2Knc876-TyWK"
      },
      "outputs": [],
      "source": [
        "#================= 11.金融 =============\n",
        "def fin():\n",
        "\n",
        "  # 載入設施csv檔\n",
        "  df = pd.read_excel(\"data/設施座標表.xlsx\", sheet_name=\"金融\")  \n",
        "\n",
        "  dh[\"固定範圍(金融)\"]=int(fi)/1000\n",
        "  dh[\"金融數量\"]=\"\"\n",
        "  for i in range(len(dh)):\n",
        "      times = 0\n",
        "      origin_lat = str(dh[\"緯度\"][i])\n",
        "      origin_long = str(dh[\"經度\"][i])\n",
        "      origin = (origin_lat, origin_long)\n",
        "      for j in range(len(df)):\n",
        "          destination_lat = str(df[\"lat\"][j])\n",
        "          destination_long = str(df[\"lng\"][j])\n",
        "          destination = (destination_lat, destination_long)\n",
        "          distance=geopy.distance.geodesic(origin, destination).km\n",
        "          try:\n",
        "              if distance <= int(fi)/1000:\n",
        "                  times = times + 1\n",
        "                  \n",
        "          except:\n",
        "              print(i,\"error\")\n",
        "      dh.at[i,\"金融數量\"] = times"
      ]
    },
    {
      "cell_type": "code",
      "execution_count": 24,
      "metadata": {
        "id": "q6uJXAz22OU3"
      },
      "outputs": [],
      "source": [
        "#fin_d=固定範圍(金融) fin_q=金融數量"
      ]
    },
    {
      "cell_type": "code",
      "execution_count": 25,
      "metadata": {
        "colab": {
          "base_uri": "https://localhost:8080/",
          "height": 769
        },
        "id": "LQBfeYPvT3es",
        "outputId": "0a35b5fc-bf3f-4992-9a1f-314ef7fcb38e"
      },
      "outputs": [
        {
          "name": "stdout",
          "output_type": "stream",
          "text": [
            "('1公園', '2博物館', '3圖書館', '4捷運出口', '5學校', '6消防', '7禮儀', '8警察', '9郵局', '10醫療', '11金融')\n",
            "請輸入每個設施的初始條件:\n",
            "公園距離:500\n",
            "博物館距離:1000\n",
            "圖書館距離:500\n",
            "捷運出口距離:500\n",
            "學校距離:1000\n",
            "消防距離:2000\n",
            "禮儀距離:5000\n",
            "警察距離:2000\n",
            "郵局距離:2000\n",
            "醫療距離:1000\n",
            "金融距離:1000\n"
          ]
        },
        {
          "output_type": "error",
          "ename": "KeyError",
          "evalue": "ignored",
          "traceback": [
            "\u001b[0;31m---------------------------------------------------------------------------\u001b[0m",
            "\u001b[0;31mKeyError\u001b[0m                                  Traceback (most recent call last)",
            "\u001b[0;32m/usr/local/lib/python3.7/dist-packages/pandas/core/indexes/base.py\u001b[0m in \u001b[0;36mget_loc\u001b[0;34m(self, key, method, tolerance)\u001b[0m\n\u001b[1;32m   3360\u001b[0m             \u001b[0;32mtry\u001b[0m\u001b[0;34m:\u001b[0m\u001b[0;34m\u001b[0m\u001b[0;34m\u001b[0m\u001b[0m\n\u001b[0;32m-> 3361\u001b[0;31m                 \u001b[0;32mreturn\u001b[0m \u001b[0mself\u001b[0m\u001b[0;34m.\u001b[0m\u001b[0m_engine\u001b[0m\u001b[0;34m.\u001b[0m\u001b[0mget_loc\u001b[0m\u001b[0;34m(\u001b[0m\u001b[0mcasted_key\u001b[0m\u001b[0;34m)\u001b[0m\u001b[0;34m\u001b[0m\u001b[0;34m\u001b[0m\u001b[0m\n\u001b[0m\u001b[1;32m   3362\u001b[0m             \u001b[0;32mexcept\u001b[0m \u001b[0mKeyError\u001b[0m \u001b[0;32mas\u001b[0m \u001b[0merr\u001b[0m\u001b[0;34m:\u001b[0m\u001b[0;34m\u001b[0m\u001b[0;34m\u001b[0m\u001b[0m\n",
            "\u001b[0;32m/usr/local/lib/python3.7/dist-packages/pandas/_libs/index.pyx\u001b[0m in \u001b[0;36mpandas._libs.index.IndexEngine.get_loc\u001b[0;34m()\u001b[0m\n",
            "\u001b[0;32m/usr/local/lib/python3.7/dist-packages/pandas/_libs/index.pyx\u001b[0m in \u001b[0;36mpandas._libs.index.IndexEngine.get_loc\u001b[0;34m()\u001b[0m\n",
            "\u001b[0;32mpandas/_libs/hashtable_class_helper.pxi\u001b[0m in \u001b[0;36mpandas._libs.hashtable.PyObjectHashTable.get_item\u001b[0;34m()\u001b[0m\n",
            "\u001b[0;32mpandas/_libs/hashtable_class_helper.pxi\u001b[0m in \u001b[0;36mpandas._libs.hashtable.PyObjectHashTable.get_item\u001b[0;34m()\u001b[0m\n",
            "\u001b[0;31mKeyError\u001b[0m: 'lng'",
            "\nThe above exception was the direct cause of the following exception:\n",
            "\u001b[0;31mKeyError\u001b[0m                                  Traceback (most recent call last)",
            "\u001b[0;32m<ipython-input-25-4db53a5ea144>\u001b[0m in \u001b[0;36m<module>\u001b[0;34m\u001b[0m\n\u001b[1;32m     22\u001b[0m \u001b[0medu\u001b[0m\u001b[0;34m(\u001b[0m\u001b[0;34m)\u001b[0m\u001b[0;34m\u001b[0m\u001b[0;34m\u001b[0m\u001b[0m\n\u001b[1;32m     23\u001b[0m \u001b[0mfire\u001b[0m\u001b[0;34m(\u001b[0m\u001b[0;34m)\u001b[0m\u001b[0;34m\u001b[0m\u001b[0;34m\u001b[0m\u001b[0m\n\u001b[0;32m---> 24\u001b[0;31m \u001b[0mdead\u001b[0m\u001b[0;34m(\u001b[0m\u001b[0;34m)\u001b[0m\u001b[0;34m\u001b[0m\u001b[0;34m\u001b[0m\u001b[0m\n\u001b[0m\u001b[1;32m     25\u001b[0m \u001b[0mpol\u001b[0m\u001b[0;34m(\u001b[0m\u001b[0;34m)\u001b[0m\u001b[0;34m\u001b[0m\u001b[0;34m\u001b[0m\u001b[0m\n\u001b[1;32m     26\u001b[0m \u001b[0mpost\u001b[0m\u001b[0;34m(\u001b[0m\u001b[0;34m)\u001b[0m\u001b[0;34m\u001b[0m\u001b[0;34m\u001b[0m\u001b[0m\n",
            "\u001b[0;32m<ipython-input-15-ecbfd5441331>\u001b[0m in \u001b[0;36mdead\u001b[0;34m()\u001b[0m\n\u001b[1;32m     14\u001b[0m       \u001b[0;32mfor\u001b[0m \u001b[0mj\u001b[0m \u001b[0;32min\u001b[0m \u001b[0mrange\u001b[0m\u001b[0;34m(\u001b[0m\u001b[0mlen\u001b[0m\u001b[0;34m(\u001b[0m\u001b[0mdf\u001b[0m\u001b[0;34m)\u001b[0m\u001b[0;34m)\u001b[0m\u001b[0;34m:\u001b[0m\u001b[0;34m\u001b[0m\u001b[0;34m\u001b[0m\u001b[0m\n\u001b[1;32m     15\u001b[0m           \u001b[0mdestination_lat\u001b[0m \u001b[0;34m=\u001b[0m \u001b[0mstr\u001b[0m\u001b[0;34m(\u001b[0m\u001b[0mdf\u001b[0m\u001b[0;34m[\u001b[0m\u001b[0;34m\"lat\"\u001b[0m\u001b[0;34m]\u001b[0m\u001b[0;34m[\u001b[0m\u001b[0mj\u001b[0m\u001b[0;34m]\u001b[0m\u001b[0;34m)\u001b[0m\u001b[0;34m\u001b[0m\u001b[0;34m\u001b[0m\u001b[0m\n\u001b[0;32m---> 16\u001b[0;31m           \u001b[0mdestination_long\u001b[0m \u001b[0;34m=\u001b[0m \u001b[0mstr\u001b[0m\u001b[0;34m(\u001b[0m\u001b[0mdf\u001b[0m\u001b[0;34m[\u001b[0m\u001b[0;34m\"lng\"\u001b[0m\u001b[0;34m]\u001b[0m\u001b[0;34m[\u001b[0m\u001b[0mj\u001b[0m\u001b[0;34m]\u001b[0m\u001b[0;34m)\u001b[0m\u001b[0;34m\u001b[0m\u001b[0;34m\u001b[0m\u001b[0m\n\u001b[0m\u001b[1;32m     17\u001b[0m           \u001b[0mdestination\u001b[0m \u001b[0;34m=\u001b[0m \u001b[0;34m(\u001b[0m\u001b[0mdestination_lat\u001b[0m\u001b[0;34m,\u001b[0m \u001b[0mdestination_long\u001b[0m\u001b[0;34m)\u001b[0m\u001b[0;34m\u001b[0m\u001b[0;34m\u001b[0m\u001b[0m\n\u001b[1;32m     18\u001b[0m           \u001b[0mdistance\u001b[0m\u001b[0;34m=\u001b[0m\u001b[0mgeopy\u001b[0m\u001b[0;34m.\u001b[0m\u001b[0mdistance\u001b[0m\u001b[0;34m.\u001b[0m\u001b[0mgeodesic\u001b[0m\u001b[0;34m(\u001b[0m\u001b[0morigin\u001b[0m\u001b[0;34m,\u001b[0m \u001b[0mdestination\u001b[0m\u001b[0;34m)\u001b[0m\u001b[0;34m.\u001b[0m\u001b[0mkm\u001b[0m\u001b[0;34m\u001b[0m\u001b[0;34m\u001b[0m\u001b[0m\n",
            "\u001b[0;32m/usr/local/lib/python3.7/dist-packages/pandas/core/frame.py\u001b[0m in \u001b[0;36m__getitem__\u001b[0;34m(self, key)\u001b[0m\n\u001b[1;32m   3456\u001b[0m             \u001b[0;32mif\u001b[0m \u001b[0mself\u001b[0m\u001b[0;34m.\u001b[0m\u001b[0mcolumns\u001b[0m\u001b[0;34m.\u001b[0m\u001b[0mnlevels\u001b[0m \u001b[0;34m>\u001b[0m \u001b[0;36m1\u001b[0m\u001b[0;34m:\u001b[0m\u001b[0;34m\u001b[0m\u001b[0;34m\u001b[0m\u001b[0m\n\u001b[1;32m   3457\u001b[0m                 \u001b[0;32mreturn\u001b[0m \u001b[0mself\u001b[0m\u001b[0;34m.\u001b[0m\u001b[0m_getitem_multilevel\u001b[0m\u001b[0;34m(\u001b[0m\u001b[0mkey\u001b[0m\u001b[0;34m)\u001b[0m\u001b[0;34m\u001b[0m\u001b[0;34m\u001b[0m\u001b[0m\n\u001b[0;32m-> 3458\u001b[0;31m             \u001b[0mindexer\u001b[0m \u001b[0;34m=\u001b[0m \u001b[0mself\u001b[0m\u001b[0;34m.\u001b[0m\u001b[0mcolumns\u001b[0m\u001b[0;34m.\u001b[0m\u001b[0mget_loc\u001b[0m\u001b[0;34m(\u001b[0m\u001b[0mkey\u001b[0m\u001b[0;34m)\u001b[0m\u001b[0;34m\u001b[0m\u001b[0;34m\u001b[0m\u001b[0m\n\u001b[0m\u001b[1;32m   3459\u001b[0m             \u001b[0;32mif\u001b[0m \u001b[0mis_integer\u001b[0m\u001b[0;34m(\u001b[0m\u001b[0mindexer\u001b[0m\u001b[0;34m)\u001b[0m\u001b[0;34m:\u001b[0m\u001b[0;34m\u001b[0m\u001b[0;34m\u001b[0m\u001b[0m\n\u001b[1;32m   3460\u001b[0m                 \u001b[0mindexer\u001b[0m \u001b[0;34m=\u001b[0m \u001b[0;34m[\u001b[0m\u001b[0mindexer\u001b[0m\u001b[0;34m]\u001b[0m\u001b[0;34m\u001b[0m\u001b[0;34m\u001b[0m\u001b[0m\n",
            "\u001b[0;32m/usr/local/lib/python3.7/dist-packages/pandas/core/indexes/base.py\u001b[0m in \u001b[0;36mget_loc\u001b[0;34m(self, key, method, tolerance)\u001b[0m\n\u001b[1;32m   3361\u001b[0m                 \u001b[0;32mreturn\u001b[0m \u001b[0mself\u001b[0m\u001b[0;34m.\u001b[0m\u001b[0m_engine\u001b[0m\u001b[0;34m.\u001b[0m\u001b[0mget_loc\u001b[0m\u001b[0;34m(\u001b[0m\u001b[0mcasted_key\u001b[0m\u001b[0;34m)\u001b[0m\u001b[0;34m\u001b[0m\u001b[0;34m\u001b[0m\u001b[0m\n\u001b[1;32m   3362\u001b[0m             \u001b[0;32mexcept\u001b[0m \u001b[0mKeyError\u001b[0m \u001b[0;32mas\u001b[0m \u001b[0merr\u001b[0m\u001b[0;34m:\u001b[0m\u001b[0;34m\u001b[0m\u001b[0;34m\u001b[0m\u001b[0m\n\u001b[0;32m-> 3363\u001b[0;31m                 \u001b[0;32mraise\u001b[0m \u001b[0mKeyError\u001b[0m\u001b[0;34m(\u001b[0m\u001b[0mkey\u001b[0m\u001b[0;34m)\u001b[0m \u001b[0;32mfrom\u001b[0m \u001b[0merr\u001b[0m\u001b[0;34m\u001b[0m\u001b[0;34m\u001b[0m\u001b[0m\n\u001b[0m\u001b[1;32m   3364\u001b[0m \u001b[0;34m\u001b[0m\u001b[0m\n\u001b[1;32m   3365\u001b[0m         \u001b[0;32mif\u001b[0m \u001b[0mis_scalar\u001b[0m\u001b[0;34m(\u001b[0m\u001b[0mkey\u001b[0m\u001b[0;34m)\u001b[0m \u001b[0;32mand\u001b[0m \u001b[0misna\u001b[0m\u001b[0;34m(\u001b[0m\u001b[0mkey\u001b[0m\u001b[0;34m)\u001b[0m \u001b[0;32mand\u001b[0m \u001b[0;32mnot\u001b[0m \u001b[0mself\u001b[0m\u001b[0;34m.\u001b[0m\u001b[0mhasnans\u001b[0m\u001b[0;34m:\u001b[0m\u001b[0;34m\u001b[0m\u001b[0;34m\u001b[0m\u001b[0m\n",
            "\u001b[0;31mKeyError\u001b[0m: 'lng'"
          ]
        }
      ],
      "source": [
        "#主程式\n",
        "list1=(\"1公園\",\"2博物館\",\"3圖書館\",\"4捷運出口\",\"5學校\",\"6消防\",\"7禮儀\",\"8警察\",\"9郵局\",\"10醫療\",\"11金融\")\n",
        "\n",
        "print(list1)\n",
        "print(\"請輸入每個設施的初始條件:\")\n",
        "pa=input(\"公園距離:\")\n",
        "m=input(\"博物館距離:\")\n",
        "li=input(\"圖書館距離:\")\n",
        "mr=input(\"捷運出口距離:\")\n",
        "ed=input(\"學校距離:\")\n",
        "fir=input(\"消防距離:\")\n",
        "de=input(\"禮儀距離:\")\n",
        "po=input(\"警察距離:\")\n",
        "pos=input(\"郵局距離:\")\n",
        "hos=input(\"醫療距離:\")\n",
        "fi=input(\"金融距離:\")\n",
        "\n",
        "park()   \n",
        "mu() \n",
        "lib() \n",
        "mrt() \n",
        "edu() \n",
        "fire() \n",
        "dead() \n",
        "pol() \n",
        "post() \n",
        "hosp() \n",
        "fin() \n",
        "\n",
        "dh.to_csv(\"台北市房屋交易初始版.csv\", encoding = \"utf-8\", index=False)\n",
        "files.download(\"台北市房屋交易初始版.csv\")"
      ]
    }
  ],
  "metadata": {
    "colab": {
      "provenance": [],
      "authorship_tag": "ABX9TyNixUyJyGxWh7XWCqeM8G1S",
      "include_colab_link": true
    },
    "kernelspec": {
      "display_name": "Python 3",
      "name": "python3"
    },
    "language_info": {
      "name": "python"
    }
  },
  "nbformat": 4,
  "nbformat_minor": 0
}